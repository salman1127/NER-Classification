{
 "cells": [
  {
   "cell_type": "code",
   "execution_count": 1,
   "metadata": {},
   "outputs": [],
   "source": [
    "import numpy as np\n",
    "import pandas as pd"
   ]
  },
  {
   "cell_type": "code",
   "execution_count": 2,
   "metadata": {},
   "outputs": [],
   "source": [
    "data = pd.read_csv('pnr.train.txt',delimiter =' ').reset_index()#sep=\" \""
   ]
  },
  {
   "cell_type": "code",
   "execution_count": 3,
   "metadata": {},
   "outputs": [
    {
     "name": "stderr",
     "output_type": "stream",
     "text": [
      "b'Skipping line 45: expected 4 fields, saw 5\\nSkipping line 175: expected 4 fields, saw 5\\nSkipping line 193: expected 4 fields, saw 5\\nSkipping line 225: expected 4 fields, saw 5\\nSkipping line 313: expected 4 fields, saw 5\\nSkipping line 451: expected 4 fields, saw 5\\nSkipping line 465: expected 4 fields, saw 5\\nSkipping line 538: expected 4 fields, saw 5\\nSkipping line 748: expected 4 fields, saw 5\\nSkipping line 842: expected 4 fields, saw 5\\nSkipping line 1112: expected 4 fields, saw 5\\nSkipping line 1147: expected 4 fields, saw 5\\nSkipping line 1179: expected 4 fields, saw 5\\nSkipping line 1221: expected 4 fields, saw 5\\nSkipping line 1259: expected 4 fields, saw 5\\nSkipping line 1270: expected 4 fields, saw 5\\nSkipping line 1273: expected 4 fields, saw 5\\nSkipping line 1285: expected 4 fields, saw 5\\nSkipping line 1332: expected 4 fields, saw 5\\nSkipping line 1357: expected 4 fields, saw 5\\nSkipping line 1511: expected 4 fields, saw 5\\nSkipping line 1514: expected 4 fields, saw 5\\nSkipping line 1528: expected 4 fields, saw 5\\nSkipping line 1560: expected 4 fields, saw 5\\nSkipping line 1563: expected 4 fields, saw 5\\nSkipping line 1626: expected 4 fields, saw 5\\nSkipping line 1695: expected 4 fields, saw 5\\nSkipping line 1740: expected 4 fields, saw 5\\nSkipping line 1771: expected 4 fields, saw 5\\nSkipping line 1804: expected 4 fields, saw 5\\nSkipping line 1833: expected 4 fields, saw 5\\nSkipping line 1853: expected 4 fields, saw 5\\nSkipping line 1866: expected 4 fields, saw 5\\nSkipping line 1871: expected 4 fields, saw 5\\nSkipping line 2059: expected 4 fields, saw 5\\nSkipping line 2240: expected 4 fields, saw 5\\nSkipping line 2325: expected 4 fields, saw 5\\nSkipping line 2360: expected 4 fields, saw 5\\nSkipping line 2382: expected 4 fields, saw 5\\nSkipping line 2477: expected 4 fields, saw 5\\nSkipping line 2522: expected 4 fields, saw 5\\nSkipping line 2581: expected 4 fields, saw 5\\nSkipping line 2605: expected 4 fields, saw 5\\nSkipping line 2627: expected 4 fields, saw 5\\nSkipping line 2665: expected 4 fields, saw 5\\nSkipping line 2708: expected 4 fields, saw 5\\nSkipping line 2713: expected 4 fields, saw 5\\nSkipping line 2731: expected 4 fields, saw 5\\nSkipping line 2796: expected 4 fields, saw 5\\nSkipping line 2823: expected 4 fields, saw 5\\nSkipping line 2874: expected 4 fields, saw 5\\nSkipping line 2950: expected 4 fields, saw 5\\nSkipping line 2984: expected 4 fields, saw 5\\nSkipping line 3093: expected 4 fields, saw 5\\nSkipping line 3136: expected 4 fields, saw 5\\nSkipping line 3156: expected 4 fields, saw 5\\nSkipping line 3263: expected 4 fields, saw 5\\nSkipping line 3361: expected 4 fields, saw 5\\nSkipping line 3431: expected 4 fields, saw 5\\nSkipping line 3447: expected 4 fields, saw 5\\nSkipping line 3498: expected 4 fields, saw 5\\nSkipping line 3539: expected 4 fields, saw 5\\nSkipping line 3648: expected 4 fields, saw 5\\nSkipping line 3743: expected 4 fields, saw 5\\nSkipping line 3748: expected 4 fields, saw 5\\nSkipping line 3757: expected 4 fields, saw 5\\nSkipping line 3795: expected 4 fields, saw 5\\nSkipping line 3844: expected 4 fields, saw 5\\nSkipping line 3866: expected 4 fields, saw 5\\nSkipping line 3911: expected 4 fields, saw 5\\nSkipping line 3932: expected 4 fields, saw 5\\nSkipping line 3988: expected 4 fields, saw 5\\nSkipping line 3989: expected 4 fields, saw 5\\nSkipping line 4110: expected 4 fields, saw 5\\nSkipping line 4135: expected 4 fields, saw 5\\nSkipping line 4238: expected 4 fields, saw 5\\nSkipping line 4267: expected 4 fields, saw 5\\nSkipping line 4286: expected 4 fields, saw 5\\nSkipping line 4386: expected 4 fields, saw 5\\nSkipping line 4401: expected 4 fields, saw 5\\nSkipping line 4414: expected 4 fields, saw 5\\nSkipping line 4600: expected 4 fields, saw 5\\nSkipping line 4613: expected 4 fields, saw 5\\nSkipping line 4675: expected 4 fields, saw 5\\nSkipping line 4729: expected 4 fields, saw 5\\nSkipping line 4780: expected 4 fields, saw 5\\nSkipping line 4786: expected 4 fields, saw 5\\nSkipping line 4814: expected 4 fields, saw 5\\nSkipping line 4883: expected 4 fields, saw 5\\nSkipping line 4893: expected 4 fields, saw 5\\nSkipping line 4945: expected 4 fields, saw 5\\nSkipping line 4984: expected 4 fields, saw 5\\nSkipping line 5002: expected 4 fields, saw 5\\nSkipping line 5013: expected 4 fields, saw 5\\nSkipping line 5022: expected 4 fields, saw 5\\nSkipping line 5038: expected 4 fields, saw 5\\nSkipping line 5049: expected 4 fields, saw 5\\nSkipping line 5059: expected 4 fields, saw 5\\nSkipping line 5169: expected 4 fields, saw 5\\nSkipping line 5218: expected 4 fields, saw 5\\nSkipping line 5263: expected 4 fields, saw 5\\nSkipping line 5330: expected 4 fields, saw 5\\nSkipping line 5347: expected 4 fields, saw 5\\nSkipping line 5366: expected 4 fields, saw 5\\nSkipping line 5378: expected 4 fields, saw 5\\nSkipping line 5425: expected 4 fields, saw 5\\nSkipping line 5431: expected 4 fields, saw 5\\nSkipping line 5488: expected 4 fields, saw 5\\nSkipping line 5560: expected 4 fields, saw 5\\nSkipping line 5631: expected 4 fields, saw 5\\nSkipping line 5669: expected 4 fields, saw 5\\nSkipping line 5677: expected 4 fields, saw 5\\nSkipping line 5693: expected 4 fields, saw 5\\nSkipping line 5701: expected 4 fields, saw 5\\nSkipping line 5747: expected 4 fields, saw 5\\nSkipping line 5818: expected 4 fields, saw 5\\nSkipping line 5887: expected 4 fields, saw 5\\nSkipping line 5917: expected 4 fields, saw 5\\nSkipping line 5957: expected 4 fields, saw 5\\nSkipping line 6029: expected 4 fields, saw 5\\nSkipping line 6100: expected 4 fields, saw 5\\nSkipping line 6138: expected 4 fields, saw 5\\nSkipping line 6170: expected 4 fields, saw 5\\nSkipping line 6199: expected 4 fields, saw 5\\nSkipping line 6223: expected 4 fields, saw 5\\nSkipping line 6231: expected 4 fields, saw 5\\nSkipping line 6300: expected 4 fields, saw 5\\nSkipping line 6305: expected 4 fields, saw 5\\nSkipping line 6345: expected 4 fields, saw 5\\nSkipping line 6361: expected 4 fields, saw 5\\nSkipping line 6369: expected 4 fields, saw 5\\nSkipping line 6439: expected 4 fields, saw 5\\nSkipping line 6451: expected 4 fields, saw 5\\nSkipping line 6512: expected 4 fields, saw 5\\nSkipping line 6582: expected 4 fields, saw 5\\nSkipping line 6651: expected 4 fields, saw 5\\nSkipping line 6816: expected 4 fields, saw 5\\nSkipping line 6920: expected 4 fields, saw 5\\nSkipping line 6967: expected 4 fields, saw 5\\nSkipping line 6975: expected 4 fields, saw 5\\nSkipping line 6997: expected 4 fields, saw 5\\nSkipping line 7136: expected 4 fields, saw 5\\nSkipping line 7139: expected 4 fields, saw 5\\nSkipping line 7188: expected 4 fields, saw 5\\nSkipping line 7202: expected 4 fields, saw 5\\nSkipping line 7303: expected 4 fields, saw 5\\nSkipping line 7314: expected 4 fields, saw 5\\nSkipping line 7317: expected 4 fields, saw 5\\nSkipping line 7339: expected 4 fields, saw 5\\nSkipping line 7531: expected 4 fields, saw 5\\nSkipping line 7989: expected 4 fields, saw 5\\nSkipping line 8054: expected 4 fields, saw 5\\nSkipping line 8069: expected 4 fields, saw 5\\nSkipping line 8101: expected 4 fields, saw 5\\nSkipping line 8194: expected 4 fields, saw 5\\nSkipping line 8195: expected 4 fields, saw 5\\nSkipping line 8197: expected 4 fields, saw 5\\nSkipping line 8273: expected 4 fields, saw 5\\nSkipping line 8280: expected 4 fields, saw 5\\nSkipping line 8308: expected 4 fields, saw 5\\nSkipping line 8329: expected 4 fields, saw 5\\nSkipping line 8366: expected 4 fields, saw 5\\nSkipping line 8378: expected 4 fields, saw 5\\nSkipping line 8394: expected 4 fields, saw 5\\nSkipping line 8437: expected 4 fields, saw 5\\nSkipping line 8468: expected 4 fields, saw 5\\nSkipping line 8554: expected 4 fields, saw 5\\nSkipping line 8574: expected 4 fields, saw 5\\nSkipping line 8588: expected 4 fields, saw 5\\nSkipping line 8614: expected 4 fields, saw 5\\nSkipping line 8619: expected 4 fields, saw 5\\nSkipping line 8645: expected 4 fields, saw 5\\nSkipping line 8664: expected 4 fields, saw 5\\nSkipping line 8668: expected 4 fields, saw 5\\nSkipping line 8682: expected 4 fields, saw 5\\nSkipping line 8685: expected 4 fields, saw 5\\nSkipping line 8871: expected 4 fields, saw 5\\nSkipping line 9076: expected 4 fields, saw 5\\nSkipping line 9179: expected 4 fields, saw 5\\nSkipping line 9180: expected 4 fields, saw 5\\nSkipping line 9197: expected 4 fields, saw 5\\nSkipping line 9225: expected 4 fields, saw 5\\nSkipping line 9352: expected 4 fields, saw 5\\nSkipping line 9371: expected 4 fields, saw 5\\nSkipping line 9502: expected 4 fields, saw 5\\nSkipping line 9527: expected 4 fields, saw 5\\nSkipping line 9539: expected 4 fields, saw 5\\nSkipping line 9568: expected 4 fields, saw 5\\nSkipping line 9646: expected 4 fields, saw 5\\nSkipping line 9686: expected 4 fields, saw 5\\nSkipping line 9701: expected 4 fields, saw 5\\nSkipping line 9792: expected 4 fields, saw 5\\nSkipping line 9895: expected 4 fields, saw 5\\nSkipping line 10012: expected 4 fields, saw 5\\nSkipping line 10100: expected 4 fields, saw 5\\nSkipping line 10159: expected 4 fields, saw 5\\nSkipping line 10196: expected 4 fields, saw 5\\nSkipping line 10208: expected 4 fields, saw 5\\nSkipping line 10214: expected 4 fields, saw 5\\nSkipping line 10275: expected 4 fields, saw 5\\nSkipping line 10317: expected 4 fields, saw 5\\nSkipping line 10365: expected 4 fields, saw 5\\nSkipping line 10391: expected 4 fields, saw 5\\nSkipping line 10425: expected 4 fields, saw 5\\nSkipping line 10435: expected 4 fields, saw 5\\nSkipping line 10461: expected 4 fields, saw 5\\nSkipping line 10475: expected 4 fields, saw 5\\nSkipping line 10486: expected 4 fields, saw 5\\nSkipping line 10496: expected 4 fields, saw 5\\nSkipping line 10515: expected 4 fields, saw 5\\nSkipping line 10541: expected 4 fields, saw 5\\nSkipping line 10549: expected 4 fields, saw 5\\nSkipping line 10624: expected 4 fields, saw 5\\nSkipping line 10646: expected 4 fields, saw 5\\nSkipping line 10736: expected 4 fields, saw 5\\nSkipping line 10751: expected 4 fields, saw 5\\nSkipping line 10807: expected 4 fields, saw 5\\nSkipping line 10966: expected 4 fields, saw 5\\nSkipping line 10974: expected 4 fields, saw 5\\nSkipping line 11079: expected 4 fields, saw 5\\nSkipping line 11211: expected 4 fields, saw 5\\nSkipping line 11286: expected 4 fields, saw 5\\nSkipping line 11291: expected 4 fields, saw 5\\nSkipping line 11334: expected 4 fields, saw 5\\nSkipping line 11358: expected 4 fields, saw 5\\nSkipping line 11364: expected 4 fields, saw 5\\nSkipping line 11369: expected 4 fields, saw 5\\nSkipping line 11421: expected 4 fields, saw 5\\nSkipping line 11477: expected 4 fields, saw 5\\nSkipping line 11478: expected 4 fields, saw 5\\nSkipping line 11494: expected 4 fields, saw 5\\nSkipping line 11549: expected 4 fields, saw 5\\nSkipping line 11564: expected 4 fields, saw 5\\nSkipping line 11588: expected 4 fields, saw 5\\nSkipping line 11615: expected 4 fields, saw 5\\nSkipping line 11628: expected 4 fields, saw 5\\nSkipping line 11678: expected 4 fields, saw 5\\nSkipping line 11702: expected 4 fields, saw 5\\nSkipping line 11724: expected 4 fields, saw 5\\nSkipping line 11734: expected 4 fields, saw 5\\nSkipping line 11760: expected 4 fields, saw 5\\nSkipping line 11883: expected 4 fields, saw 5\\nSkipping line 11902: expected 4 fields, saw 5\\nSkipping line 11907: expected 4 fields, saw 5\\nSkipping line 11942: expected 4 fields, saw 5\\nSkipping line 11969: expected 4 fields, saw 5\\nSkipping line 12007: expected 4 fields, saw 5\\nSkipping line 12031: expected 4 fields, saw 5\\nSkipping line 12052: expected 4 fields, saw 5\\nSkipping line 12095: expected 4 fields, saw 5\\nSkipping line 12117: expected 4 fields, saw 5\\nSkipping line 12288: expected 4 fields, saw 5\\nSkipping line 12296: expected 4 fields, saw 5\\nSkipping line 12304: expected 4 fields, saw 5\\nSkipping line 12453: expected 4 fields, saw 5\\nSkipping line 12608: expected 4 fields, saw 5\\nSkipping line 12613: expected 4 fields, saw 5\\nSkipping line 12623: expected 4 fields, saw 5\\nSkipping line 12640: expected 4 fields, saw 5\\nSkipping line 12690: expected 4 fields, saw 5\\nSkipping line 12708: expected 4 fields, saw 5\\nSkipping line 12741: expected 4 fields, saw 5\\nSkipping line 12753: expected 4 fields, saw 5\\nSkipping line 12797: expected 4 fields, saw 5\\nSkipping line 12798: expected 4 fields, saw 5\\nSkipping line 12821: expected 4 fields, saw 5\\nSkipping line 12859: expected 4 fields, saw 5\\nSkipping line 12930: expected 4 fields, saw 5\\nSkipping line 13075: expected 4 fields, saw 5\\nSkipping line 13198: expected 4 fields, saw 5\\nSkipping line 13371: expected 4 fields, saw 5\\nSkipping line 13392: expected 4 fields, saw 5\\nSkipping line 13409: expected 4 fields, saw 5\\nSkipping line 13411: expected 4 fields, saw 5\\nSkipping line 13559: expected 4 fields, saw 5\\nSkipping line 13576: expected 4 fields, saw 5\\nSkipping line 13600: expected 4 fields, saw 5\\nSkipping line 13611: expected 4 fields, saw 5\\nSkipping line 13671: expected 4 fields, saw 5\\nSkipping line 13679: expected 4 fields, saw 5\\nSkipping line 13766: expected 4 fields, saw 5\\nSkipping line 13861: expected 4 fields, saw 5\\nSkipping line 13908: expected 4 fields, saw 5\\nSkipping line 13943: expected 4 fields, saw 5\\nSkipping line 13992: expected 4 fields, saw 5\\nSkipping line 14053: expected 4 fields, saw 5\\nSkipping line 14072: expected 4 fields, saw 5\\nSkipping line 14083: expected 4 fields, saw 5\\nSkipping line 14162: expected 4 fields, saw 5\\nSkipping line 14193: expected 4 fields, saw 5\\nSkipping line 14258: expected 4 fields, saw 5\\nSkipping line 14340: expected 4 fields, saw 5\\nSkipping line 14418: expected 4 fields, saw 5\\nSkipping line 14529: expected 4 fields, saw 5\\nSkipping line 14554: expected 4 fields, saw 5\\nSkipping line 14570: expected 4 fields, saw 5\\nSkipping line 14599: expected 4 fields, saw 5\\nSkipping line 14660: expected 4 fields, saw 5\\nSkipping line 14707: expected 4 fields, saw 5\\nSkipping line 14846: expected 4 fields, saw 5\\nSkipping line 14941: expected 4 fields, saw 5\\nSkipping line 14957: expected 4 fields, saw 5\\nSkipping line 15015: expected 4 fields, saw 5\\nSkipping line 15030: expected 4 fields, saw 5\\nSkipping line 15063: expected 4 fields, saw 5\\nSkipping line 15104: expected 4 fields, saw 5\\nSkipping line 15119: expected 4 fields, saw 5\\nSkipping line 15133: expected 4 fields, saw 5\\nSkipping line 15160: expected 4 fields, saw 5\\nSkipping line 15199: expected 4 fields, saw 5\\nSkipping line 15236: expected 4 fields, saw 5\\nSkipping line 15238: expected 4 fields, saw 5\\nSkipping line 15244: expected 4 fields, saw 5\\nSkipping line 15270: expected 4 fields, saw 5\\nSkipping line 15310: expected 4 fields, saw 5\\nSkipping line 15329: expected 4 fields, saw 5\\nSkipping line 15367: expected 4 fields, saw 5\\nSkipping line 15434: expected 4 fields, saw 5\\nSkipping line 15455: expected 4 fields, saw 5\\nSkipping line 15524: expected 4 fields, saw 5\\nSkipping line 15582: expected 4 fields, saw 5\\nSkipping line 15605: expected 4 fields, saw 5\\nSkipping line 15621: expected 4 fields, saw 5\\nSkipping line 15651: expected 4 fields, saw 5\\nSkipping line 15660: expected 4 fields, saw 5\\nSkipping line 15689: expected 4 fields, saw 5\\nSkipping line 15717: expected 4 fields, saw 5\\nSkipping line 15722: expected 4 fields, saw 5\\nSkipping line 15724: expected 4 fields, saw 5\\nSkipping line 15767: expected 4 fields, saw 5\\nSkipping line 15786: expected 4 fields, saw 5\\nSkipping line 15794: expected 4 fields, saw 5\\nSkipping line 15846: expected 4 fields, saw 5\\nSkipping line 15882: expected 4 fields, saw 5\\nSkipping line 15899: expected 4 fields, saw 5\\nSkipping line 15919: expected 4 fields, saw 5\\nSkipping line 15966: expected 4 fields, saw 5\\nSkipping line 15975: expected 4 fields, saw 5\\nSkipping line 16072: expected 4 fields, saw 5\\nSkipping line 16085: expected 4 fields, saw 5\\nSkipping line 16105: expected 4 fields, saw 5\\nSkipping line 16139: expected 4 fields, saw 5\\nSkipping line 16156: expected 4 fields, saw 5\\nSkipping line 16277: expected 4 fields, saw 5\\nSkipping line 16302: expected 4 fields, saw 5\\nSkipping line 16318: expected 4 fields, saw 5\\nSkipping line 16337: expected 4 fields, saw 5\\nSkipping line 16363: expected 4 fields, saw 5\\nSkipping line 16388: expected 4 fields, saw 5\\nSkipping line 16406: expected 4 fields, saw 5\\nSkipping line 16423: expected 4 fields, saw 5\\nSkipping line 16477: expected 4 fields, saw 5\\nSkipping line 16488: expected 4 fields, saw 5\\nSkipping line 16493: expected 4 fields, saw 5\\nSkipping line 16538: expected 4 fields, saw 5\\nSkipping line 16562: expected 4 fields, saw 5\\nSkipping line 16663: expected 4 fields, saw 5\\nSkipping line 16699: expected 4 fields, saw 5\\nSkipping line 16741: expected 4 fields, saw 5\\nSkipping line 16755: expected 4 fields, saw 5\\nSkipping line 16792: expected 4 fields, saw 5\\nSkipping line 16932: expected 4 fields, saw 5\\nSkipping line 17011: expected 4 fields, saw 5\\nSkipping line 17045: expected 4 fields, saw 5\\nSkipping line 17047: expected 4 fields, saw 5\\nSkipping line 17102: expected 4 fields, saw 5\\nSkipping line 17142: expected 4 fields, saw 5\\nSkipping line 17252: expected 4 fields, saw 5\\nSkipping line 17311: expected 4 fields, saw 5\\nSkipping line 17329: expected 4 fields, saw 5\\nSkipping line 17355: expected 4 fields, saw 5\\nSkipping line 17356: expected 4 fields, saw 5\\nSkipping line 17359: expected 4 fields, saw 5\\nSkipping line 17376: expected 4 fields, saw 5\\nSkipping line 17427: expected 4 fields, saw 5\\nSkipping line 17461: expected 4 fields, saw 5\\nSkipping line 17466: expected 4 fields, saw 5\\nSkipping line 17472: expected 4 fields, saw 5\\nSkipping line 17478: expected 4 fields, saw 5\\nSkipping line 17534: expected 4 fields, saw 5\\nSkipping line 17582: expected 4 fields, saw 5\\nSkipping line 17585: expected 4 fields, saw 5\\nSkipping line 17603: expected 4 fields, saw 5\\nSkipping line 17673: expected 4 fields, saw 5\\nSkipping line 17674: expected 4 fields, saw 5\\nSkipping line 17683: expected 4 fields, saw 5\\nSkipping line 17777: expected 4 fields, saw 5\\nSkipping line 17778: expected 4 fields, saw 5\\nSkipping line 17894: expected 4 fields, saw 5\\nSkipping line 17947: expected 4 fields, saw 5\\nSkipping line 17971: expected 4 fields, saw 5\\nSkipping line 18003: expected 4 fields, saw 5\\nSkipping line 18012: expected 4 fields, saw 5\\nSkipping line 18082: expected 4 fields, saw 5\\nSkipping line 18167: expected 4 fields, saw 5\\nSkipping line 18216: expected 4 fields, saw 5\\nSkipping line 18223: expected 4 fields, saw 5\\nSkipping line 18326: expected 4 fields, saw 5\\nSkipping line 18366: expected 4 fields, saw 5\\nSkipping line 18385: expected 4 fields, saw 5\\nSkipping line 18402: expected 4 fields, saw 5\\nSkipping line 18416: expected 4 fields, saw 5\\nSkipping line 18441: expected 4 fields, saw 5\\nSkipping line 18481: expected 4 fields, saw 5\\nSkipping line 18553: expected 4 fields, saw 5\\nSkipping line 18615: expected 4 fields, saw 5\\nSkipping line 18705: expected 4 fields, saw 5\\nSkipping line 18756: expected 4 fields, saw 5\\nSkipping line 18777: expected 4 fields, saw 5\\nSkipping line 18820: expected 4 fields, saw 5\\nSkipping line 18872: expected 4 fields, saw 5\\nSkipping line 18873: expected 4 fields, saw 5\\nSkipping line 18911: expected 4 fields, saw 5\\nSkipping line 18997: expected 4 fields, saw 5\\nSkipping line 19001: expected 4 fields, saw 5\\nSkipping line 19023: expected 4 fields, saw 5\\nSkipping line 19045: expected 4 fields, saw 5\\nSkipping line 19423: expected 4 fields, saw 5\\nSkipping line 19433: expected 4 fields, saw 5\\nSkipping line 19444: expected 4 fields, saw 5\\nSkipping line 19485: expected 4 fields, saw 5\\nSkipping line 19585: expected 4 fields, saw 5\\nSkipping line 19617: expected 4 fields, saw 5\\nSkipping line 19635: expected 4 fields, saw 5\\nSkipping line 19652: expected 4 fields, saw 5\\nSkipping line 19713: expected 4 fields, saw 5\\nSkipping line 19735: expected 4 fields, saw 5\\nSkipping line 19751: expected 4 fields, saw 5\\nSkipping line 19755: expected 4 fields, saw 5\\nSkipping line 19781: expected 4 fields, saw 5\\nSkipping line 19854: expected 4 fields, saw 5\\nSkipping line 19882: expected 4 fields, saw 5\\nSkipping line 19914: expected 4 fields, saw 5\\nSkipping line 19939: expected 4 fields, saw 5\\nSkipping line 20006: expected 4 fields, saw 5\\nSkipping line 20023: expected 4 fields, saw 5\\nSkipping line 20132: expected 4 fields, saw 5\\nSkipping line 20147: expected 4 fields, saw 5\\nSkipping line 20193: expected 4 fields, saw 5\\nSkipping line 20261: expected 4 fields, saw 5\\nSkipping line 20299: expected 4 fields, saw 5\\nSkipping line 20342: expected 4 fields, saw 5\\nSkipping line 20359: expected 4 fields, saw 5\\nSkipping line 20423: expected 4 fields, saw 5\\nSkipping line 20479: expected 4 fields, saw 5\\nSkipping line 20495: expected 4 fields, saw 5\\nSkipping line 20542: expected 4 fields, saw 5\\nSkipping line 20601: expected 4 fields, saw 5\\nSkipping line 20641: expected 4 fields, saw 5\\nSkipping line 20681: expected 4 fields, saw 5\\nSkipping line 20709: expected 4 fields, saw 5\\nSkipping line 20722: expected 4 fields, saw 5\\nSkipping line 20739: expected 4 fields, saw 5\\nSkipping line 20865: expected 4 fields, saw 5\\nSkipping line 20889: expected 4 fields, saw 5\\nSkipping line 21031: expected 4 fields, saw 5\\nSkipping line 21037: expected 4 fields, saw 5\\nSkipping line 21043: expected 4 fields, saw 5\\nSkipping line 21143: expected 4 fields, saw 5\\nSkipping line 21165: expected 4 fields, saw 5\\nSkipping line 21172: expected 4 fields, saw 5\\nSkipping line 21211: expected 4 fields, saw 5\\nSkipping line 21218: expected 4 fields, saw 5\\nSkipping line 21239: expected 4 fields, saw 5\\nSkipping line 21267: expected 4 fields, saw 5\\nSkipping line 21424: expected 4 fields, saw 5\\nSkipping line 21431: expected 4 fields, saw 5\\nSkipping line 21452: expected 4 fields, saw 5\\nSkipping line 21465: expected 4 fields, saw 5\\nSkipping line 21482: expected 4 fields, saw 5\\nSkipping line 21574: expected 4 fields, saw 5\\nSkipping line 21674: expected 4 fields, saw 5\\nSkipping line 21744: expected 4 fields, saw 5\\nSkipping line 21776: expected 4 fields, saw 5\\nSkipping line 21834: expected 4 fields, saw 5\\nSkipping line 21877: expected 4 fields, saw 5\\nSkipping line 21947: expected 4 fields, saw 5\\nSkipping line 21968: expected 4 fields, saw 5\\nSkipping line 22133: expected 4 fields, saw 5\\nSkipping line 22141: expected 4 fields, saw 5\\nSkipping line 22159: expected 4 fields, saw 5\\nSkipping line 22162: expected 4 fields, saw 5\\nSkipping line 22261: expected 4 fields, saw 5\\nSkipping line 22335: expected 4 fields, saw 5\\nSkipping line 22348: expected 4 fields, saw 5\\nSkipping line 22441: expected 4 fields, saw 5\\nSkipping line 22536: expected 4 fields, saw 5\\nSkipping line 22598: expected 4 fields, saw 5\\nSkipping line 22667: expected 4 fields, saw 5\\nSkipping line 22765: expected 4 fields, saw 5\\nSkipping line 22775: expected 4 fields, saw 5\\nSkipping line 22793: expected 4 fields, saw 5\\nSkipping line 22826: expected 4 fields, saw 5\\nSkipping line 22832: expected 4 fields, saw 5\\nSkipping line 22848: expected 4 fields, saw 5\\nSkipping line 22867: expected 4 fields, saw 5\\nSkipping line 22964: expected 4 fields, saw 5\\nSkipping line 22969: expected 4 fields, saw 5\\nSkipping line 23012: expected 4 fields, saw 5\\nSkipping line 23157: expected 4 fields, saw 5\\nSkipping line 23451: expected 4 fields, saw 5\\nSkipping line 23545: expected 4 fields, saw 5\\nSkipping line 23625: expected 4 fields, saw 5\\nSkipping line 23672: expected 4 fields, saw 5\\nSkipping line 23683: expected 4 fields, saw 5\\nSkipping line 23809: expected 4 fields, saw 5\\nSkipping line 23947: expected 4 fields, saw 5\\nSkipping line 24026: expected 4 fields, saw 5\\nSkipping line 24075: expected 4 fields, saw 5\\nSkipping line 24151: expected 4 fields, saw 5\\nSkipping line 24211: expected 4 fields, saw 5\\nSkipping line 24294: expected 4 fields, saw 5\\nSkipping line 24352: expected 4 fields, saw 5\\nSkipping line 24375: expected 4 fields, saw 5\\nSkipping line 24428: expected 4 fields, saw 5\\nSkipping line 24440: expected 4 fields, saw 5\\nSkipping line 24467: expected 4 fields, saw 5\\nSkipping line 24485: expected 4 fields, saw 5\\nSkipping line 24505: expected 4 fields, saw 5\\nSkipping line 24540: expected 4 fields, saw 5\\nSkipping line 24569: expected 4 fields, saw 5\\nSkipping line 24597: expected 4 fields, saw 5\\nSkipping line 24649: expected 4 fields, saw 5\\nSkipping line 24662: expected 4 fields, saw 5\\nSkipping line 24673: expected 4 fields, saw 5\\nSkipping line 24722: expected 4 fields, saw 5\\nSkipping line 24922: expected 4 fields, saw 5\\nSkipping line 24973: expected 4 fields, saw 5\\nSkipping line 24982: expected 4 fields, saw 5\\nSkipping line 25070: expected 4 fields, saw 5\\nSkipping line 25157: expected 4 fields, saw 5\\nSkipping line 25181: expected 4 fields, saw 5\\nSkipping line 25295: expected 4 fields, saw 5\\nSkipping line 25459: expected 4 fields, saw 5\\nSkipping line 25468: expected 4 fields, saw 5\\nSkipping line 25552: expected 4 fields, saw 5\\nSkipping line 25583: expected 4 fields, saw 5\\nSkipping line 25610: expected 4 fields, saw 5\\nSkipping line 25631: expected 4 fields, saw 5\\nSkipping line 25700: expected 4 fields, saw 5\\nSkipping line 25706: expected 4 fields, saw 5\\nSkipping line 25719: expected 4 fields, saw 5\\nSkipping line 25748: expected 4 fields, saw 5\\nSkipping line 25753: expected 4 fields, saw 5\\nSkipping line 25767: expected 4 fields, saw 5\\nSkipping line 25786: expected 4 fields, saw 5\\nSkipping line 25887: expected 4 fields, saw 5\\nSkipping line 25908: expected 4 fields, saw 5\\nSkipping line 25924: expected 4 fields, saw 5\\nSkipping line 25927: expected 4 fields, saw 5\\nSkipping line 25942: expected 4 fields, saw 5\\nSkipping line 25954: expected 4 fields, saw 5\\nSkipping line 26052: expected 4 fields, saw 5\\nSkipping line 26143: expected 4 fields, saw 5\\nSkipping line 26230: expected 4 fields, saw 5\\nSkipping line 26241: expected 4 fields, saw 5\\nSkipping line 26248: expected 4 fields, saw 5\\nSkipping line 26268: expected 4 fields, saw 5\\nSkipping line 26371: expected 4 fields, saw 5\\nSkipping line 26414: expected 4 fields, saw 5\\nSkipping line 26445: expected 4 fields, saw 5\\nSkipping line 26628: expected 4 fields, saw 5\\nSkipping line 26655: expected 4 fields, saw 5\\nSkipping line 26793: expected 4 fields, saw 5\\nSkipping line 26804: expected 4 fields, saw 5\\nSkipping line 26937: expected 4 fields, saw 5\\nSkipping line 26968: expected 4 fields, saw 5\\nSkipping line 26979: expected 4 fields, saw 5\\nSkipping line 26984: expected 4 fields, saw 5\\nSkipping line 26993: expected 4 fields, saw 5\\nSkipping line 27016: expected 4 fields, saw 5\\nSkipping line 27033: expected 4 fields, saw 5\\nSkipping line 27060: expected 4 fields, saw 5\\nSkipping line 27266: expected 4 fields, saw 5\\nSkipping line 27349: expected 4 fields, saw 5\\nSkipping line 27455: expected 4 fields, saw 5\\nSkipping line 27536: expected 4 fields, saw 5\\nSkipping line 27563: expected 4 fields, saw 5\\nSkipping line 27579: expected 4 fields, saw 5\\nSkipping line 27679: expected 4 fields, saw 5\\nSkipping line 27866: expected 4 fields, saw 5\\nSkipping line 28096: expected 4 fields, saw 5\\nSkipping line 28200: expected 4 fields, saw 5\\nSkipping line 28224: expected 4 fields, saw 5\\nSkipping line 28226: expected 4 fields, saw 5\\nSkipping line 28247: expected 4 fields, saw 5\\nSkipping line 28311: expected 4 fields, saw 5\\nSkipping line 28352: expected 4 fields, saw 5\\nSkipping line 28378: expected 4 fields, saw 5\\nSkipping line 28402: expected 4 fields, saw 5\\nSkipping line 28606: expected 4 fields, saw 5\\nSkipping line 28654: expected 4 fields, saw 5\\nSkipping line 28699: expected 4 fields, saw 5\\nSkipping line 28830: expected 4 fields, saw 5\\nSkipping line 28836: expected 4 fields, saw 5\\nSkipping line 28848: expected 4 fields, saw 5\\nSkipping line 28912: expected 4 fields, saw 5\\nSkipping line 28940: expected 4 fields, saw 5\\nSkipping line 29066: expected 4 fields, saw 5\\nSkipping line 29083: expected 4 fields, saw 5\\nSkipping line 29136: expected 4 fields, saw 5\\nSkipping line 29138: expected 4 fields, saw 5\\nSkipping line 29163: expected 4 fields, saw 5\\nSkipping line 29169: expected 4 fields, saw 5\\nSkipping line 29176: expected 4 fields, saw 5\\nSkipping line 29185: expected 4 fields, saw 5\\nSkipping line 29189: expected 4 fields, saw 5\\nSkipping line 29422: expected 4 fields, saw 5\\nSkipping line 29430: expected 4 fields, saw 5\\nSkipping line 29458: expected 4 fields, saw 5\\nSkipping line 29464: expected 4 fields, saw 5\\nSkipping line 29506: expected 4 fields, saw 5\\nSkipping line 29525: expected 4 fields, saw 5\\nSkipping line 29564: expected 4 fields, saw 5\\nSkipping line 29690: expected 4 fields, saw 5\\nSkipping line 29722: expected 4 fields, saw 5\\nSkipping line 30222: expected 4 fields, saw 5\\nSkipping line 30401: expected 4 fields, saw 5\\nSkipping line 30623: expected 4 fields, saw 5\\nSkipping line 30774: expected 4 fields, saw 5\\nSkipping line 30919: expected 4 fields, saw 5\\nSkipping line 30923: expected 4 fields, saw 5\\nSkipping line 30939: expected 4 fields, saw 5\\nSkipping line 30971: expected 4 fields, saw 5\\nSkipping line 31025: expected 4 fields, saw 5\\nSkipping line 31050: expected 4 fields, saw 5\\nSkipping line 31075: expected 4 fields, saw 5\\nSkipping line 31159: expected 4 fields, saw 5\\nSkipping line 31177: expected 4 fields, saw 5\\nSkipping line 31194: expected 4 fields, saw 5\\nSkipping line 31207: expected 4 fields, saw 5\\nSkipping line 31272: expected 4 fields, saw 5\\nSkipping line 31309: expected 4 fields, saw 5\\nSkipping line 31315: expected 4 fields, saw 5\\nSkipping line 31327: expected 4 fields, saw 5\\nSkipping line 31337: expected 4 fields, saw 5\\nSkipping line 31350: expected 4 fields, saw 5\\nSkipping line 31376: expected 4 fields, saw 5\\nSkipping line 31399: expected 4 fields, saw 5\\nSkipping line 31457: expected 4 fields, saw 5\\nSkipping line 31574: expected 4 fields, saw 5\\nSkipping line 31637: expected 4 fields, saw 5\\nSkipping line 31745: expected 4 fields, saw 5\\nSkipping line 31751: expected 4 fields, saw 5\\nSkipping line 31771: expected 4 fields, saw 5\\nSkipping line 31797: expected 4 fields, saw 5\\nSkipping line 31853: expected 4 fields, saw 5\\nSkipping line 31854: expected 4 fields, saw 5\\nSkipping line 31874: expected 4 fields, saw 5\\nSkipping line 31923: expected 4 fields, saw 5\\nSkipping line 31960: expected 4 fields, saw 5\\nSkipping line 31972: expected 4 fields, saw 5\\nSkipping line 32008: expected 4 fields, saw 5\\nSkipping line 32079: expected 4 fields, saw 5\\nSkipping line 32101: expected 4 fields, saw 5\\nSkipping line 32175: expected 4 fields, saw 5\\nSkipping line 32194: expected 4 fields, saw 5\\nSkipping line 32230: expected 4 fields, saw 5\\nSkipping line 32233: expected 4 fields, saw 5\\nSkipping line 32266: expected 4 fields, saw 5\\nSkipping line 32298: expected 4 fields, saw 5\\nSkipping line 32308: expected 4 fields, saw 5\\nSkipping line 32528: expected 4 fields, saw 5\\nSkipping line 32530: expected 4 fields, saw 5\\nSkipping line 32595: expected 4 fields, saw 5\\nSkipping line 32687: expected 4 fields, saw 5\\nSkipping line 32695: expected 4 fields, saw 5\\nSkipping line 32712: expected 4 fields, saw 5\\nSkipping line 32952: expected 4 fields, saw 5\\nSkipping line 33020: expected 4 fields, saw 5\\nSkipping line 33028: expected 4 fields, saw 5\\nSkipping line 33045: expected 4 fields, saw 5\\nSkipping line 33736: expected 4 fields, saw 5\\nSkipping line 33786: expected 4 fields, saw 5\\nSkipping line 33826: expected 4 fields, saw 5\\nSkipping line 33855: expected 4 fields, saw 5\\nSkipping line 33886: expected 4 fields, saw 5\\nSkipping line 33929: expected 4 fields, saw 5\\nSkipping line 34046: expected 4 fields, saw 5\\nSkipping line 34168: expected 4 fields, saw 5\\nSkipping line 34271: expected 4 fields, saw 5\\nSkipping line 34365: expected 4 fields, saw 5\\nSkipping line 34395: expected 4 fields, saw 5\\nSkipping line 34452: expected 4 fields, saw 5\\nSkipping line 34476: expected 4 fields, saw 5\\nSkipping line 34666: expected 4 fields, saw 5\\nSkipping line 34681: expected 4 fields, saw 5\\nSkipping line 34702: expected 4 fields, saw 5\\nSkipping line 34740: expected 4 fields, saw 5\\nSkipping line 34764: expected 4 fields, saw 5\\nSkipping line 34827: expected 4 fields, saw 5\\nSkipping line 34850: expected 4 fields, saw 5\\nSkipping line 34881: expected 4 fields, saw 5\\nSkipping line 34909: expected 4 fields, saw 5\\nSkipping line 34922: expected 4 fields, saw 5\\nSkipping line 34954: expected 4 fields, saw 5\\nSkipping line 35032: expected 4 fields, saw 5\\nSkipping line 35058: expected 4 fields, saw 5\\nSkipping line 35068: expected 4 fields, saw 5\\nSkipping line 35102: expected 4 fields, saw 5\\nSkipping line 35116: expected 4 fields, saw 5\\nSkipping line 35128: expected 4 fields, saw 5\\nSkipping line 35471: expected 4 fields, saw 5\\nSkipping line 35482: expected 4 fields, saw 5\\nSkipping line 35493: expected 4 fields, saw 5\\nSkipping line 35501: expected 4 fields, saw 5\\nSkipping line 35642: expected 4 fields, saw 5\\nSkipping line 35836: expected 4 fields, saw 5\\nSkipping line 35842: expected 4 fields, saw 5\\nSkipping line 36006: expected 4 fields, saw 5\\nSkipping line 36008: expected 4 fields, saw 5\\nSkipping line 36017: expected 4 fields, saw 5\\nSkipping line 36024: expected 4 fields, saw 5\\nSkipping line 36038: expected 4 fields, saw 5\\nSkipping line 36065: expected 4 fields, saw 5\\nSkipping line 36085: expected 4 fields, saw 5\\nSkipping line 36100: expected 4 fields, saw 5\\nSkipping line 36412: expected 4 fields, saw 5\\nSkipping line 36654: expected 4 fields, saw 5\\nSkipping line 36688: expected 4 fields, saw 5\\nSkipping line 36690: expected 4 fields, saw 5\\nSkipping line 36704: expected 4 fields, saw 5\\nSkipping line 36733: expected 4 fields, saw 5\\nSkipping line 36744: expected 4 fields, saw 5\\nSkipping line 36775: expected 4 fields, saw 5\\nSkipping line 36779: expected 4 fields, saw 5\\nSkipping line 36807: expected 4 fields, saw 5\\nSkipping line 36816: expected 4 fields, saw 5\\nSkipping line 36842: expected 4 fields, saw 5\\nSkipping line 36863: expected 4 fields, saw 5\\nSkipping line 36878: expected 4 fields, saw 5\\nSkipping line 36907: expected 4 fields, saw 5\\nSkipping line 36916: expected 4 fields, saw 5\\nSkipping line 36918: expected 4 fields, saw 5\\nSkipping line 36970: expected 4 fields, saw 5\\nSkipping line 37210: expected 4 fields, saw 5\\nSkipping line 37311: expected 4 fields, saw 5\\nSkipping line 37346: expected 4 fields, saw 5\\nSkipping line 37463: expected 4 fields, saw 5\\nSkipping line 37524: expected 4 fields, saw 5\\nSkipping line 37531: expected 4 fields, saw 5\\nSkipping line 37570: expected 4 fields, saw 5\\nSkipping line 37678: expected 4 fields, saw 5\\nSkipping line 37741: expected 4 fields, saw 5\\nSkipping line 37773: expected 4 fields, saw 5\\nSkipping line 37795: expected 4 fields, saw 5\\nSkipping line 37801: expected 4 fields, saw 5\\nSkipping line 37828: expected 4 fields, saw 5\\nSkipping line 37840: expected 4 fields, saw 5\\nSkipping line 37870: expected 4 fields, saw 5\\nSkipping line 37906: expected 4 fields, saw 5\\nSkipping line 37924: expected 4 fields, saw 5\\nSkipping line 37935: expected 4 fields, saw 5\\nSkipping line 37975: expected 4 fields, saw 5\\nSkipping line 38020: expected 4 fields, saw 5\\nSkipping line 38032: expected 4 fields, saw 5\\nSkipping line 38047: expected 4 fields, saw 5\\nSkipping line 38116: expected 4 fields, saw 5\\nSkipping line 38118: expected 4 fields, saw 5\\nSkipping line 38153: expected 4 fields, saw 5\\nSkipping line 38171: expected 4 fields, saw 5\\nSkipping line 38195: expected 4 fields, saw 5\\nSkipping line 38230: expected 4 fields, saw 5\\nSkipping line 38283: expected 4 fields, saw 5\\nSkipping line 38328: expected 4 fields, saw 5\\nSkipping line 38382: expected 4 fields, saw 5\\nSkipping line 38496: expected 4 fields, saw 5\\nSkipping line 38572: expected 4 fields, saw 5\\nSkipping line 38718: expected 4 fields, saw 5\\nSkipping line 38763: expected 4 fields, saw 5\\nSkipping line 38783: expected 4 fields, saw 5\\nSkipping line 38953: expected 4 fields, saw 5\\nSkipping line 38991: expected 4 fields, saw 5\\nSkipping line 39012: expected 4 fields, saw 5\\nSkipping line 39078: expected 4 fields, saw 5\\nSkipping line 39092: expected 4 fields, saw 5\\nSkipping line 39100: expected 4 fields, saw 5\\nSkipping line 39223: expected 4 fields, saw 5\\nSkipping line 39224: expected 4 fields, saw 5\\nSkipping line 39260: expected 4 fields, saw 5\\nSkipping line 39405: expected 4 fields, saw 5\\nSkipping line 39491: expected 4 fields, saw 5\\nSkipping line 39650: expected 4 fields, saw 5\\nSkipping line 39689: expected 4 fields, saw 5\\nSkipping line 39734: expected 4 fields, saw 5\\nSkipping line 39771: expected 4 fields, saw 5\\nSkipping line 39850: expected 4 fields, saw 5\\nSkipping line 40028: expected 4 fields, saw 5\\nSkipping line 40080: expected 4 fields, saw 5\\nSkipping line 40119: expected 4 fields, saw 5\\nSkipping line 40125: expected 4 fields, saw 5\\nSkipping line 40130: expected 4 fields, saw 5\\nSkipping line 40164: expected 4 fields, saw 5\\nSkipping line 40284: expected 4 fields, saw 5\\nSkipping line 40298: expected 4 fields, saw 5\\nSkipping line 40382: expected 4 fields, saw 5\\nSkipping line 40412: expected 4 fields, saw 5\\nSkipping line 40438: expected 4 fields, saw 5\\nSkipping line 40486: expected 4 fields, saw 5\\nSkipping line 40520: expected 4 fields, saw 5\\nSkipping line 40532: expected 4 fields, saw 5\\nSkipping line 40574: expected 4 fields, saw 5\\nSkipping line 40593: expected 4 fields, saw 5\\nSkipping line 40615: expected 4 fields, saw 5\\nSkipping line 40627: expected 4 fields, saw 5\\nSkipping line 40690: expected 4 fields, saw 5\\nSkipping line 40737: expected 4 fields, saw 5\\nSkipping line 40785: expected 4 fields, saw 5\\nSkipping line 40856: expected 4 fields, saw 5\\nSkipping line 40995: expected 4 fields, saw 5\\nSkipping line 41054: expected 4 fields, saw 5\\nSkipping line 41055: expected 4 fields, saw 5\\nSkipping line 41085: expected 4 fields, saw 5\\nSkipping line 41107: expected 4 fields, saw 5\\nSkipping line 41164: expected 4 fields, saw 5\\nSkipping line 41235: expected 4 fields, saw 5\\nSkipping line 41281: expected 4 fields, saw 5\\nSkipping line 41599: expected 4 fields, saw 5\\nSkipping line 41638: expected 4 fields, saw 5\\nSkipping line 41640: expected 4 fields, saw 5\\nSkipping line 41651: expected 4 fields, saw 5\\nSkipping line 41760: expected 4 fields, saw 5\\nSkipping line 41768: expected 4 fields, saw 5\\nSkipping line 41782: expected 4 fields, saw 5\\nSkipping line 41836: expected 4 fields, saw 5\\nSkipping line 41895: expected 4 fields, saw 5\\nSkipping line 41903: expected 4 fields, saw 5\\nSkipping line 41906: expected 4 fields, saw 5\\nSkipping line 41957: expected 4 fields, saw 5\\nSkipping line 41993: expected 4 fields, saw 5\\nSkipping line 42047: expected 4 fields, saw 5\\nSkipping line 42079: expected 4 fields, saw 5\\nSkipping line 42139: expected 4 fields, saw 5\\nSkipping line 42344: expected 4 fields, saw 5\\nSkipping line 42382: expected 4 fields, saw 5\\nSkipping line 42456: expected 4 fields, saw 5\\nSkipping line 42464: expected 4 fields, saw 5\\nSkipping line 42668: expected 4 fields, saw 5\\nSkipping line 42741: expected 4 fields, saw 5\\nSkipping line 42778: expected 4 fields, saw 5\\nSkipping line 42820: expected 4 fields, saw 5\\nSkipping line 42827: expected 4 fields, saw 5\\nSkipping line 42874: expected 4 fields, saw 5\\nSkipping line 42895: expected 4 fields, saw 5\\nSkipping line 42901: expected 4 fields, saw 5\\nSkipping line 43025: expected 4 fields, saw 5\\nSkipping line 43057: expected 4 fields, saw 5\\nSkipping line 43117: expected 4 fields, saw 5\\nSkipping line 43120: expected 4 fields, saw 5\\nSkipping line 43148: expected 4 fields, saw 5\\nSkipping line 43151: expected 4 fields, saw 5\\nSkipping line 43153: expected 4 fields, saw 5\\nSkipping line 43199: expected 4 fields, saw 5\\nSkipping line 43223: expected 4 fields, saw 5\\nSkipping line 43268: expected 4 fields, saw 5\\nSkipping line 43289: expected 4 fields, saw 5\\nSkipping line 43291: expected 4 fields, saw 5\\nSkipping line 43309: expected 4 fields, saw 5\\nSkipping line 43329: expected 4 fields, saw 5\\nSkipping line 43357: expected 4 fields, saw 5\\nSkipping line 43479: expected 4 fields, saw 5\\nSkipping line 43493: expected 4 fields, saw 5\\nSkipping line 43519: expected 4 fields, saw 5\\nSkipping line 43540: expected 4 fields, saw 5\\nSkipping line 43544: expected 4 fields, saw 5\\nSkipping line 43581: expected 4 fields, saw 5\\nSkipping line 43713: expected 4 fields, saw 5\\nSkipping line 43725: expected 4 fields, saw 5\\nSkipping line 43735: expected 4 fields, saw 5\\nSkipping line 43753: expected 4 fields, saw 5\\nSkipping line 43763: expected 4 fields, saw 5\\nSkipping line 43855: expected 4 fields, saw 5\\nSkipping line 43922: expected 4 fields, saw 5\\nSkipping line 43931: expected 4 fields, saw 5\\nSkipping line 44082: expected 4 fields, saw 5\\nSkipping line 44153: expected 4 fields, saw 5\\nSkipping line 44181: expected 4 fields, saw 5\\nSkipping line 44194: expected 4 fields, saw 5\\nSkipping line 44233: expected 4 fields, saw 5\\nSkipping line 44328: expected 4 fields, saw 5\\nSkipping line 44370: expected 4 fields, saw 5\\nSkipping line 44413: expected 4 fields, saw 5\\nSkipping line 44439: expected 4 fields, saw 5\\nSkipping line 44651: expected 4 fields, saw 5\\nSkipping line 44672: expected 4 fields, saw 5\\nSkipping line 44749: expected 4 fields, saw 5\\nSkipping line 44815: expected 4 fields, saw 5\\nSkipping line 44844: expected 4 fields, saw 5\\nSkipping line 44885: expected 4 fields, saw 5\\nSkipping line 44930: expected 4 fields, saw 5\\nSkipping line 44931: expected 4 fields, saw 5\\nSkipping line 44938: expected 4 fields, saw 5\\nSkipping line 45016: expected 4 fields, saw 5\\nSkipping line 45037: expected 4 fields, saw 5\\nSkipping line 45071: expected 4 fields, saw 5\\nSkipping line 45411: expected 4 fields, saw 5\\nSkipping line 45435: expected 4 fields, saw 5\\nSkipping line 45437: expected 4 fields, saw 5\\nSkipping line 45478: expected 4 fields, saw 5\\nSkipping line 45496: expected 4 fields, saw 5\\nSkipping line 45506: expected 4 fields, saw 5\\nSkipping line 45515: expected 4 fields, saw 5\\nSkipping line 45736: expected 4 fields, saw 5\\nSkipping line 45771: expected 4 fields, saw 5\\nSkipping line 45842: expected 4 fields, saw 5\\nSkipping line 45922: expected 4 fields, saw 5\\nSkipping line 46082: expected 4 fields, saw 5\\nSkipping line 46196: expected 4 fields, saw 5\\nSkipping line 46460: expected 4 fields, saw 5\\nSkipping line 46495: expected 4 fields, saw 5\\nSkipping line 46599: expected 4 fields, saw 5\\nSkipping line 46690: expected 4 fields, saw 5\\nSkipping line 46742: expected 4 fields, saw 5\\nSkipping line 46788: expected 4 fields, saw 5\\nSkipping line 46810: expected 4 fields, saw 5\\nSkipping line 46931: expected 4 fields, saw 5\\nSkipping line 46963: expected 4 fields, saw 5\\nSkipping line 47036: expected 4 fields, saw 5\\nSkipping line 47108: expected 4 fields, saw 5\\nSkipping line 47123: expected 4 fields, saw 5\\nSkipping line 47227: expected 4 fields, saw 5\\nSkipping line 47301: expected 4 fields, saw 5\\nSkipping line 47308: expected 4 fields, saw 5\\nSkipping line 47360: expected 4 fields, saw 5\\nSkipping line 47555: expected 4 fields, saw 5\\nSkipping line 47590: expected 4 fields, saw 5\\nSkipping line 47627: expected 4 fields, saw 5\\nSkipping line 47635: expected 4 fields, saw 5\\nSkipping line 47826: expected 4 fields, saw 5\\nSkipping line 47922: expected 4 fields, saw 5\\nSkipping line 47939: expected 4 fields, saw 5\\nSkipping line 47955: expected 4 fields, saw 5\\nSkipping line 47984: expected 4 fields, saw 5\\nSkipping line 48000: expected 4 fields, saw 5\\nSkipping line 48038: expected 4 fields, saw 5\\nSkipping line 48105: expected 4 fields, saw 5\\nSkipping line 48109: expected 4 fields, saw 5\\nSkipping line 48154: expected 4 fields, saw 5\\nSkipping line 48204: expected 4 fields, saw 5\\nSkipping line 48208: expected 4 fields, saw 5\\nSkipping line 48210: expected 4 fields, saw 5\\nSkipping line 48262: expected 4 fields, saw 5\\nSkipping line 48324: expected 4 fields, saw 5\\nSkipping line 48339: expected 4 fields, saw 5\\nSkipping line 48401: expected 4 fields, saw 5\\nSkipping line 48409: expected 4 fields, saw 5\\nSkipping line 48476: expected 4 fields, saw 5\\nSkipping line 48493: expected 4 fields, saw 5\\nSkipping line 48539: expected 4 fields, saw 5\\nSkipping line 48553: expected 4 fields, saw 5\\nSkipping line 48609: expected 4 fields, saw 5\\nSkipping line 48627: expected 4 fields, saw 5\\nSkipping line 48656: expected 4 fields, saw 5\\nSkipping line 48666: expected 4 fields, saw 5\\nSkipping line 48677: expected 4 fields, saw 5\\nSkipping line 48744: expected 4 fields, saw 5\\nSkipping line 48792: expected 4 fields, saw 5\\nSkipping line 48991: expected 4 fields, saw 5\\nSkipping line 48997: expected 4 fields, saw 5\\nSkipping line 49001: expected 4 fields, saw 5\\nSkipping line 49315: expected 4 fields, saw 5\\nSkipping line 49361: expected 4 fields, saw 5\\nSkipping line 49365: expected 4 fields, saw 5\\nSkipping line 49377: expected 4 fields, saw 5\\nSkipping line 49515: expected 4 fields, saw 5\\nSkipping line 49617: expected 4 fields, saw 5\\nSkipping line 49709: expected 4 fields, saw 5\\nSkipping line 49727: expected 4 fields, saw 5\\nSkipping line 49737: expected 4 fields, saw 5\\nSkipping line 49798: expected 4 fields, saw 5\\nSkipping line 49833: expected 4 fields, saw 5\\nSkipping line 49863: expected 4 fields, saw 5\\nSkipping line 49971: expected 4 fields, saw 5\\nSkipping line 50033: expected 4 fields, saw 5\\nSkipping line 50069: expected 4 fields, saw 5\\nSkipping line 50178: expected 4 fields, saw 5\\nSkipping line 50198: expected 4 fields, saw 5\\nSkipping line 50220: expected 4 fields, saw 5\\nSkipping line 50303: expected 4 fields, saw 5\\nSkipping line 50354: expected 4 fields, saw 5\\nSkipping line 50361: expected 4 fields, saw 5\\nSkipping line 50403: expected 4 fields, saw 5\\nSkipping line 50686: expected 4 fields, saw 5\\nSkipping line 50821: expected 4 fields, saw 5\\nSkipping line 50865: expected 4 fields, saw 5\\nSkipping line 50922: expected 4 fields, saw 5\\nSkipping line 50923: expected 4 fields, saw 5\\nSkipping line 51151: expected 4 fields, saw 5\\nSkipping line 51165: expected 4 fields, saw 5\\nSkipping line 51252: expected 4 fields, saw 5\\nSkipping line 51267: expected 4 fields, saw 5\\nSkipping line 51315: expected 4 fields, saw 5\\nSkipping line 51352: expected 4 fields, saw 5\\nSkipping line 51413: expected 4 fields, saw 5\\nSkipping line 51548: expected 4 fields, saw 5\\nSkipping line 51549: expected 4 fields, saw 5\\nSkipping line 51563: expected 4 fields, saw 5\\nSkipping line 51648: expected 4 fields, saw 5\\nSkipping line 51652: expected 4 fields, saw 5\\nSkipping line 51733: expected 4 fields, saw 5\\nSkipping line 51752: expected 4 fields, saw 5\\nSkipping line 51760: expected 4 fields, saw 5\\nSkipping line 51798: expected 4 fields, saw 5\\nSkipping line 51842: expected 4 fields, saw 5\\nSkipping line 51891: expected 4 fields, saw 5\\nSkipping line 51956: expected 4 fields, saw 5\\nSkipping line 52037: expected 4 fields, saw 5\\nSkipping line 52104: expected 4 fields, saw 5\\nSkipping line 52232: expected 4 fields, saw 5\\nSkipping line 52246: expected 4 fields, saw 5\\nSkipping line 52264: expected 4 fields, saw 5\\nSkipping line 52441: expected 4 fields, saw 5\\nSkipping line 52493: expected 4 fields, saw 5\\nSkipping line 52571: expected 4 fields, saw 5\\nSkipping line 52620: expected 4 fields, saw 5\\nSkipping line 52621: expected 4 fields, saw 5\\nSkipping line 52623: expected 4 fields, saw 5\\nSkipping line 52645: expected 4 fields, saw 5\\nSkipping line 52673: expected 4 fields, saw 5\\nSkipping line 52814: expected 4 fields, saw 5\\nSkipping line 52984: expected 4 fields, saw 5\\nSkipping line 53206: expected 4 fields, saw 5\\nSkipping line 53226: expected 4 fields, saw 5\\nSkipping line 53242: expected 4 fields, saw 5\\nSkipping line 53265: expected 4 fields, saw 5\\nSkipping line 53276: expected 4 fields, saw 5\\nSkipping line 53296: expected 4 fields, saw 5\\nSkipping line 53420: expected 4 fields, saw 5\\nSkipping line 53422: expected 4 fields, saw 5\\nSkipping line 53479: expected 4 fields, saw 5\\nSkipping line 53523: expected 4 fields, saw 5\\nSkipping line 53548: expected 4 fields, saw 5\\nSkipping line 53590: expected 4 fields, saw 5\\nSkipping line 53618: expected 4 fields, saw 5\\nSkipping line 53631: expected 4 fields, saw 5\\nSkipping line 53671: expected 4 fields, saw 5\\nSkipping line 53694: expected 4 fields, saw 5\\nSkipping line 53703: expected 4 fields, saw 5\\nSkipping line 53780: expected 4 fields, saw 5\\nSkipping line 53818: expected 4 fields, saw 5\\nSkipping line 53822: expected 4 fields, saw 5\\nSkipping line 53875: expected 4 fields, saw 5\\nSkipping line 53909: expected 4 fields, saw 5\\nSkipping line 53963: expected 4 fields, saw 5\\nSkipping line 53994: expected 4 fields, saw 5\\nSkipping line 54039: expected 4 fields, saw 5\\nSkipping line 54049: expected 4 fields, saw 5\\nSkipping line 54099: expected 4 fields, saw 5\\nSkipping line 54114: expected 4 fields, saw 5\\nSkipping line 54151: expected 4 fields, saw 5\\nSkipping line 54180: expected 4 fields, saw 5\\nSkipping line 54249: expected 4 fields, saw 5\\nSkipping line 54305: expected 4 fields, saw 5\\nSkipping line 54339: expected 4 fields, saw 5\\nSkipping line 54343: expected 4 fields, saw 5\\nSkipping line 54395: expected 4 fields, saw 5\\nSkipping line 54422: expected 4 fields, saw 5\\nSkipping line 54573: expected 4 fields, saw 5\\nSkipping line 54588: expected 4 fields, saw 5\\nSkipping line 54598: expected 4 fields, saw 5\\nSkipping line 54609: expected 4 fields, saw 5\\nSkipping line 54674: expected 4 fields, saw 5\\nSkipping line 54699: expected 4 fields, saw 5\\nSkipping line 54722: expected 4 fields, saw 5\\nSkipping line 54832: expected 4 fields, saw 5\\nSkipping line 54837: expected 4 fields, saw 5\\nSkipping line 55016: expected 4 fields, saw 5\\nSkipping line 55027: expected 4 fields, saw 5\\n'\n"
     ]
    }
   ],
   "source": [
    "test = pd.read_csv('pnr.test.txt',delimiter=' ',error_bad_lines=False).reset_index()"
   ]
  },
  {
   "cell_type": "code",
   "execution_count": 4,
   "metadata": {},
   "outputs": [
    {
     "data": {
      "text/html": [
       "<div>\n",
       "<style scoped>\n",
       "    .dataframe tbody tr th:only-of-type {\n",
       "        vertical-align: middle;\n",
       "    }\n",
       "\n",
       "    .dataframe tbody tr th {\n",
       "        vertical-align: top;\n",
       "    }\n",
       "\n",
       "    .dataframe thead th {\n",
       "        text-align: right;\n",
       "    }\n",
       "</style>\n",
       "<table border=\"1\" class=\"dataframe\">\n",
       "  <thead>\n",
       "    <tr style=\"text-align: right;\">\n",
       "      <th></th>\n",
       "      <th>index</th>\n",
       "      <th>-DOCSTART-</th>\n",
       "      <th>-X-</th>\n",
       "      <th>O</th>\n",
       "    </tr>\n",
       "  </thead>\n",
       "  <tbody>\n",
       "    <tr>\n",
       "      <th>0</th>\n",
       "      <td>EU</td>\n",
       "      <td>NNP</td>\n",
       "      <td>NaN</td>\n",
       "      <td>O</td>\n",
       "    </tr>\n",
       "    <tr>\n",
       "      <th>1</th>\n",
       "      <td>rejects</td>\n",
       "      <td>VBZ</td>\n",
       "      <td>NaN</td>\n",
       "      <td>O</td>\n",
       "    </tr>\n",
       "    <tr>\n",
       "      <th>2</th>\n",
       "      <td>German</td>\n",
       "      <td>JJ</td>\n",
       "      <td>NaN</td>\n",
       "      <td>O</td>\n",
       "    </tr>\n",
       "    <tr>\n",
       "      <th>3</th>\n",
       "      <td>call</td>\n",
       "      <td>NN</td>\n",
       "      <td>NaN</td>\n",
       "      <td>O</td>\n",
       "    </tr>\n",
       "    <tr>\n",
       "      <th>4</th>\n",
       "      <td>to</td>\n",
       "      <td>TO</td>\n",
       "      <td>NaN</td>\n",
       "      <td>O</td>\n",
       "    </tr>\n",
       "  </tbody>\n",
       "</table>\n",
       "</div>"
      ],
      "text/plain": [
       "     index -DOCSTART-  -X-  O\n",
       "0       EU        NNP  NaN  O\n",
       "1  rejects        VBZ  NaN  O\n",
       "2   German         JJ  NaN  O\n",
       "3     call         NN  NaN  O\n",
       "4       to         TO  NaN  O"
      ]
     },
     "execution_count": 4,
     "metadata": {},
     "output_type": "execute_result"
    }
   ],
   "source": [
    "data.head()"
   ]
  },
  {
   "cell_type": "code",
   "execution_count": 5,
   "metadata": {},
   "outputs": [
    {
     "name": "stdout",
     "output_type": "stream",
     "text": [
      "(204566, 4)\n"
     ]
    },
    {
     "data": {
      "text/plain": [
       "Index(['index', '-DOCSTART-', '-X-', 'O'], dtype='object')"
      ]
     },
     "execution_count": 5,
     "metadata": {},
     "output_type": "execute_result"
    }
   ],
   "source": [
    "print(data.shape)\n",
    "data.columns"
   ]
  },
  {
   "cell_type": "code",
   "execution_count": 6,
   "metadata": {},
   "outputs": [
    {
     "data": {
      "text/html": [
       "<div>\n",
       "<style scoped>\n",
       "    .dataframe tbody tr th:only-of-type {\n",
       "        vertical-align: middle;\n",
       "    }\n",
       "\n",
       "    .dataframe tbody tr th {\n",
       "        vertical-align: top;\n",
       "    }\n",
       "\n",
       "    .dataframe thead th {\n",
       "        text-align: right;\n",
       "    }\n",
       "</style>\n",
       "<table border=\"1\" class=\"dataframe\">\n",
       "  <thead>\n",
       "    <tr style=\"text-align: right;\">\n",
       "      <th></th>\n",
       "      <th>index</th>\n",
       "      <th>-DOCSTART-</th>\n",
       "      <th>-X-</th>\n",
       "      <th>O</th>\n",
       "    </tr>\n",
       "  </thead>\n",
       "  <tbody>\n",
       "    <tr>\n",
       "      <th>0</th>\n",
       "      <td>CRICKET</td>\n",
       "      <td>NNP</td>\n",
       "      <td>NaN</td>\n",
       "      <td>O</td>\n",
       "    </tr>\n",
       "    <tr>\n",
       "      <th>1</th>\n",
       "      <td>-</td>\n",
       "      <td>:</td>\n",
       "      <td>O</td>\n",
       "      <td>NaN</td>\n",
       "    </tr>\n",
       "    <tr>\n",
       "      <th>2</th>\n",
       "      <td>LEICESTERSHIRE</td>\n",
       "      <td>NNP</td>\n",
       "      <td>NaN</td>\n",
       "      <td>O</td>\n",
       "    </tr>\n",
       "    <tr>\n",
       "      <th>3</th>\n",
       "      <td>TAKE</td>\n",
       "      <td>NNP</td>\n",
       "      <td>NaN</td>\n",
       "      <td>O</td>\n",
       "    </tr>\n",
       "    <tr>\n",
       "      <th>4</th>\n",
       "      <td>OVER</td>\n",
       "      <td>IN</td>\n",
       "      <td>NaN</td>\n",
       "      <td>O</td>\n",
       "    </tr>\n",
       "  </tbody>\n",
       "</table>\n",
       "</div>"
      ],
      "text/plain": [
       "            index -DOCSTART-  -X-    O\n",
       "0         CRICKET        NNP  NaN    O\n",
       "1               -          :    O  NaN\n",
       "2  LEICESTERSHIRE        NNP  NaN    O\n",
       "3            TAKE        NNP  NaN    O\n",
       "4            OVER         IN  NaN    O"
      ]
     },
     "execution_count": 6,
     "metadata": {},
     "output_type": "execute_result"
    }
   ],
   "source": [
    "test.head()"
   ]
  },
  {
   "cell_type": "code",
   "execution_count": 7,
   "metadata": {},
   "outputs": [],
   "source": [
    "data = data[data['index'] !='-DOCSTART-']\n",
    "test = test[test['index'] !='-DOCSTART-']"
   ]
  },
  {
   "cell_type": "code",
   "execution_count": 8,
   "metadata": {},
   "outputs": [
    {
     "data": {
      "text/plain": [
       "index              3\n",
       "-DOCSTART-         0\n",
       "-X-           178153\n",
       "O              27479\n",
       "dtype: int64"
      ]
     },
     "execution_count": 8,
     "metadata": {},
     "output_type": "execute_result"
    }
   ],
   "source": [
    "data.isnull().sum()"
   ]
  },
  {
   "cell_type": "code",
   "execution_count": 9,
   "metadata": {},
   "outputs": [
    {
     "data": {
      "text/html": [
       "<div>\n",
       "<style scoped>\n",
       "    .dataframe tbody tr th:only-of-type {\n",
       "        vertical-align: middle;\n",
       "    }\n",
       "\n",
       "    .dataframe tbody tr th {\n",
       "        vertical-align: top;\n",
       "    }\n",
       "\n",
       "    .dataframe thead th {\n",
       "        text-align: right;\n",
       "    }\n",
       "</style>\n",
       "<table border=\"1\" class=\"dataframe\">\n",
       "  <thead>\n",
       "    <tr style=\"text-align: right;\">\n",
       "      <th></th>\n",
       "      <th>index</th>\n",
       "      <th>-DOCSTART-</th>\n",
       "      <th>-X-</th>\n",
       "      <th>O</th>\n",
       "    </tr>\n",
       "  </thead>\n",
       "  <tbody>\n",
       "    <tr>\n",
       "      <th>0</th>\n",
       "      <td>CRICKET</td>\n",
       "      <td>NNP</td>\n",
       "      <td>NaN</td>\n",
       "      <td>O</td>\n",
       "    </tr>\n",
       "    <tr>\n",
       "      <th>1</th>\n",
       "      <td>-</td>\n",
       "      <td>:</td>\n",
       "      <td>O</td>\n",
       "      <td>NaN</td>\n",
       "    </tr>\n",
       "  </tbody>\n",
       "</table>\n",
       "</div>"
      ],
      "text/plain": [
       "     index -DOCSTART-  -X-    O\n",
       "0  CRICKET        NNP  NaN    O\n",
       "1        -          :    O  NaN"
      ]
     },
     "execution_count": 9,
     "metadata": {},
     "output_type": "execute_result"
    }
   ],
   "source": [
    "data.head(2)\n",
    "test.head(2)"
   ]
  },
  {
   "cell_type": "code",
   "execution_count": 10,
   "metadata": {},
   "outputs": [],
   "source": [
    "data.fillna('UNK',inplace = True)\n",
    "test.fillna('UNK',inplace = True)"
   ]
  },
  {
   "cell_type": "code",
   "execution_count": 11,
   "metadata": {},
   "outputs": [],
   "source": [
    "def label(X,O):\n",
    "    if O != 'UNK':\n",
    "        return O\n",
    "    else:\n",
    "        return X"
   ]
  },
  {
   "cell_type": "code",
   "execution_count": 12,
   "metadata": {},
   "outputs": [],
   "source": [
    "data['Label']  = data.apply(lambda row: label(row['-X-'], row['O']), axis=1)\n",
    "test['label']  = test.apply(lambda row: label(row['-X-'], row['O']), axis=1)"
   ]
  },
  {
   "cell_type": "code",
   "execution_count": 13,
   "metadata": {},
   "outputs": [
    {
     "data": {
      "text/html": [
       "<div>\n",
       "<style scoped>\n",
       "    .dataframe tbody tr th:only-of-type {\n",
       "        vertical-align: middle;\n",
       "    }\n",
       "\n",
       "    .dataframe tbody tr th {\n",
       "        vertical-align: top;\n",
       "    }\n",
       "\n",
       "    .dataframe thead th {\n",
       "        text-align: right;\n",
       "    }\n",
       "</style>\n",
       "<table border=\"1\" class=\"dataframe\">\n",
       "  <thead>\n",
       "    <tr style=\"text-align: right;\">\n",
       "      <th></th>\n",
       "      <th>index</th>\n",
       "      <th>-DOCSTART-</th>\n",
       "      <th>-X-</th>\n",
       "      <th>O</th>\n",
       "      <th>Label</th>\n",
       "    </tr>\n",
       "  </thead>\n",
       "  <tbody>\n",
       "    <tr>\n",
       "      <th>0</th>\n",
       "      <td>EU</td>\n",
       "      <td>NNP</td>\n",
       "      <td>UNK</td>\n",
       "      <td>O</td>\n",
       "      <td>O</td>\n",
       "    </tr>\n",
       "    <tr>\n",
       "      <th>1</th>\n",
       "      <td>rejects</td>\n",
       "      <td>VBZ</td>\n",
       "      <td>UNK</td>\n",
       "      <td>O</td>\n",
       "      <td>O</td>\n",
       "    </tr>\n",
       "    <tr>\n",
       "      <th>2</th>\n",
       "      <td>German</td>\n",
       "      <td>JJ</td>\n",
       "      <td>UNK</td>\n",
       "      <td>O</td>\n",
       "      <td>O</td>\n",
       "    </tr>\n",
       "    <tr>\n",
       "      <th>3</th>\n",
       "      <td>call</td>\n",
       "      <td>NN</td>\n",
       "      <td>UNK</td>\n",
       "      <td>O</td>\n",
       "      <td>O</td>\n",
       "    </tr>\n",
       "    <tr>\n",
       "      <th>4</th>\n",
       "      <td>to</td>\n",
       "      <td>TO</td>\n",
       "      <td>UNK</td>\n",
       "      <td>O</td>\n",
       "      <td>O</td>\n",
       "    </tr>\n",
       "    <tr>\n",
       "      <th>5</th>\n",
       "      <td>boycott</td>\n",
       "      <td>VB</td>\n",
       "      <td>UNK</td>\n",
       "      <td>O</td>\n",
       "      <td>O</td>\n",
       "    </tr>\n",
       "    <tr>\n",
       "      <th>6</th>\n",
       "      <td>British</td>\n",
       "      <td>JJ</td>\n",
       "      <td>UNK</td>\n",
       "      <td>O</td>\n",
       "      <td>O</td>\n",
       "    </tr>\n",
       "    <tr>\n",
       "      <th>7</th>\n",
       "      <td>lamb</td>\n",
       "      <td>NN</td>\n",
       "      <td>UNK</td>\n",
       "      <td>O</td>\n",
       "      <td>O</td>\n",
       "    </tr>\n",
       "    <tr>\n",
       "      <th>8</th>\n",
       "      <td>.</td>\n",
       "      <td>.</td>\n",
       "      <td>O</td>\n",
       "      <td>UNK</td>\n",
       "      <td>O</td>\n",
       "    </tr>\n",
       "    <tr>\n",
       "      <th>9</th>\n",
       "      <td>Peter</td>\n",
       "      <td>NNP</td>\n",
       "      <td>UNK</td>\n",
       "      <td>I</td>\n",
       "      <td>I</td>\n",
       "    </tr>\n",
       "  </tbody>\n",
       "</table>\n",
       "</div>"
      ],
      "text/plain": [
       "     index -DOCSTART-  -X-    O Label\n",
       "0       EU        NNP  UNK    O     O\n",
       "1  rejects        VBZ  UNK    O     O\n",
       "2   German         JJ  UNK    O     O\n",
       "3     call         NN  UNK    O     O\n",
       "4       to         TO  UNK    O     O\n",
       "5  boycott         VB  UNK    O     O\n",
       "6  British         JJ  UNK    O     O\n",
       "7     lamb         NN  UNK    O     O\n",
       "8        .          .    O  UNK     O\n",
       "9    Peter        NNP  UNK    I     I"
      ]
     },
     "execution_count": 13,
     "metadata": {},
     "output_type": "execute_result"
    }
   ],
   "source": [
    "data.head(10)"
   ]
  },
  {
   "cell_type": "code",
   "execution_count": 14,
   "metadata": {},
   "outputs": [
    {
     "data": {
      "text/html": [
       "<div>\n",
       "<style scoped>\n",
       "    .dataframe tbody tr th:only-of-type {\n",
       "        vertical-align: middle;\n",
       "    }\n",
       "\n",
       "    .dataframe tbody tr th {\n",
       "        vertical-align: top;\n",
       "    }\n",
       "\n",
       "    .dataframe thead th {\n",
       "        text-align: right;\n",
       "    }\n",
       "</style>\n",
       "<table border=\"1\" class=\"dataframe\">\n",
       "  <thead>\n",
       "    <tr style=\"text-align: right;\">\n",
       "      <th></th>\n",
       "      <th>index</th>\n",
       "      <th>-DOCSTART-</th>\n",
       "      <th>-X-</th>\n",
       "      <th>O</th>\n",
       "      <th>label</th>\n",
       "    </tr>\n",
       "  </thead>\n",
       "  <tbody>\n",
       "    <tr>\n",
       "      <th>0</th>\n",
       "      <td>CRICKET</td>\n",
       "      <td>NNP</td>\n",
       "      <td>UNK</td>\n",
       "      <td>O</td>\n",
       "      <td>O</td>\n",
       "    </tr>\n",
       "    <tr>\n",
       "      <th>1</th>\n",
       "      <td>-</td>\n",
       "      <td>:</td>\n",
       "      <td>O</td>\n",
       "      <td>UNK</td>\n",
       "      <td>O</td>\n",
       "    </tr>\n",
       "    <tr>\n",
       "      <th>2</th>\n",
       "      <td>LEICESTERSHIRE</td>\n",
       "      <td>NNP</td>\n",
       "      <td>UNK</td>\n",
       "      <td>O</td>\n",
       "      <td>O</td>\n",
       "    </tr>\n",
       "    <tr>\n",
       "      <th>3</th>\n",
       "      <td>TAKE</td>\n",
       "      <td>NNP</td>\n",
       "      <td>UNK</td>\n",
       "      <td>O</td>\n",
       "      <td>O</td>\n",
       "    </tr>\n",
       "    <tr>\n",
       "      <th>4</th>\n",
       "      <td>OVER</td>\n",
       "      <td>IN</td>\n",
       "      <td>UNK</td>\n",
       "      <td>O</td>\n",
       "      <td>O</td>\n",
       "    </tr>\n",
       "    <tr>\n",
       "      <th>5</th>\n",
       "      <td>AT</td>\n",
       "      <td>NNP</td>\n",
       "      <td>UNK</td>\n",
       "      <td>O</td>\n",
       "      <td>O</td>\n",
       "    </tr>\n",
       "    <tr>\n",
       "      <th>6</th>\n",
       "      <td>TOP</td>\n",
       "      <td>NNP</td>\n",
       "      <td>UNK</td>\n",
       "      <td>O</td>\n",
       "      <td>O</td>\n",
       "    </tr>\n",
       "    <tr>\n",
       "      <th>7</th>\n",
       "      <td>AFTER</td>\n",
       "      <td>NNP</td>\n",
       "      <td>UNK</td>\n",
       "      <td>O</td>\n",
       "      <td>O</td>\n",
       "    </tr>\n",
       "    <tr>\n",
       "      <th>8</th>\n",
       "      <td>INNINGS</td>\n",
       "      <td>NNP</td>\n",
       "      <td>UNK</td>\n",
       "      <td>O</td>\n",
       "      <td>O</td>\n",
       "    </tr>\n",
       "    <tr>\n",
       "      <th>9</th>\n",
       "      <td>VICTORY</td>\n",
       "      <td>NN</td>\n",
       "      <td>UNK</td>\n",
       "      <td>O</td>\n",
       "      <td>O</td>\n",
       "    </tr>\n",
       "    <tr>\n",
       "      <th>10</th>\n",
       "      <td>.</td>\n",
       "      <td>.</td>\n",
       "      <td>O</td>\n",
       "      <td>UNK</td>\n",
       "      <td>O</td>\n",
       "    </tr>\n",
       "    <tr>\n",
       "      <th>11</th>\n",
       "      <td>LONDON</td>\n",
       "      <td>NNP</td>\n",
       "      <td>UNK</td>\n",
       "      <td>O</td>\n",
       "      <td>O</td>\n",
       "    </tr>\n",
       "    <tr>\n",
       "      <th>12</th>\n",
       "      <td>1996-08-30</td>\n",
       "      <td>CD</td>\n",
       "      <td>UNK</td>\n",
       "      <td>O</td>\n",
       "      <td>O</td>\n",
       "    </tr>\n",
       "    <tr>\n",
       "      <th>13</th>\n",
       "      <td>West</td>\n",
       "      <td>NNP</td>\n",
       "      <td>UNK</td>\n",
       "      <td>O</td>\n",
       "      <td>O</td>\n",
       "    </tr>\n",
       "    <tr>\n",
       "      <th>14</th>\n",
       "      <td>Indian</td>\n",
       "      <td>NNP</td>\n",
       "      <td>UNK</td>\n",
       "      <td>UNK</td>\n",
       "      <td>UNK</td>\n",
       "    </tr>\n",
       "    <tr>\n",
       "      <th>15</th>\n",
       "      <td>all-rounder</td>\n",
       "      <td>NN</td>\n",
       "      <td>UNK</td>\n",
       "      <td>O</td>\n",
       "      <td>O</td>\n",
       "    </tr>\n",
       "    <tr>\n",
       "      <th>16</th>\n",
       "      <td>Phil</td>\n",
       "      <td>NNP</td>\n",
       "      <td>UNK</td>\n",
       "      <td>I</td>\n",
       "      <td>I</td>\n",
       "    </tr>\n",
       "    <tr>\n",
       "      <th>17</th>\n",
       "      <td>Simmons</td>\n",
       "      <td>NNP</td>\n",
       "      <td>UNK</td>\n",
       "      <td>I</td>\n",
       "      <td>I</td>\n",
       "    </tr>\n",
       "    <tr>\n",
       "      <th>18</th>\n",
       "      <td>took</td>\n",
       "      <td>VBD</td>\n",
       "      <td>UNK</td>\n",
       "      <td>O</td>\n",
       "      <td>O</td>\n",
       "    </tr>\n",
       "    <tr>\n",
       "      <th>19</th>\n",
       "      <td>four</td>\n",
       "      <td>CD</td>\n",
       "      <td>UNK</td>\n",
       "      <td>O</td>\n",
       "      <td>O</td>\n",
       "    </tr>\n",
       "  </tbody>\n",
       "</table>\n",
       "</div>"
      ],
      "text/plain": [
       "             index -DOCSTART-  -X-    O label\n",
       "0          CRICKET        NNP  UNK    O     O\n",
       "1                -          :    O  UNK     O\n",
       "2   LEICESTERSHIRE        NNP  UNK    O     O\n",
       "3             TAKE        NNP  UNK    O     O\n",
       "4             OVER         IN  UNK    O     O\n",
       "5               AT        NNP  UNK    O     O\n",
       "6              TOP        NNP  UNK    O     O\n",
       "7            AFTER        NNP  UNK    O     O\n",
       "8          INNINGS        NNP  UNK    O     O\n",
       "9          VICTORY         NN  UNK    O     O\n",
       "10               .          .    O  UNK     O\n",
       "11          LONDON        NNP  UNK    O     O\n",
       "12      1996-08-30         CD  UNK    O     O\n",
       "13            West        NNP  UNK    O     O\n",
       "14          Indian        NNP  UNK  UNK   UNK\n",
       "15     all-rounder         NN  UNK    O     O\n",
       "16            Phil        NNP  UNK    I     I\n",
       "17         Simmons        NNP  UNK    I     I\n",
       "18            took        VBD  UNK    O     O\n",
       "19            four         CD  UNK    O     O"
      ]
     },
     "execution_count": 14,
     "metadata": {},
     "output_type": "execute_result"
    }
   ],
   "source": [
    "test.head(20)"
   ]
  },
  {
   "cell_type": "code",
   "execution_count": 15,
   "metadata": {},
   "outputs": [],
   "source": [
    "data.drop(['-X-','O'],axis = 1, inplace =True)\n",
    "test.drop(['-X-','O'],axis = 1, inplace =True)"
   ]
  },
  {
   "cell_type": "code",
   "execution_count": 16,
   "metadata": {},
   "outputs": [
    {
     "data": {
      "text/html": [
       "<div>\n",
       "<style scoped>\n",
       "    .dataframe tbody tr th:only-of-type {\n",
       "        vertical-align: middle;\n",
       "    }\n",
       "\n",
       "    .dataframe tbody tr th {\n",
       "        vertical-align: top;\n",
       "    }\n",
       "\n",
       "    .dataframe thead th {\n",
       "        text-align: right;\n",
       "    }\n",
       "</style>\n",
       "<table border=\"1\" class=\"dataframe\">\n",
       "  <thead>\n",
       "    <tr style=\"text-align: right;\">\n",
       "      <th></th>\n",
       "      <th>index</th>\n",
       "      <th>-DOCSTART-</th>\n",
       "      <th>Label</th>\n",
       "    </tr>\n",
       "  </thead>\n",
       "  <tbody>\n",
       "    <tr>\n",
       "      <th>0</th>\n",
       "      <td>EU</td>\n",
       "      <td>NNP</td>\n",
       "      <td>O</td>\n",
       "    </tr>\n",
       "    <tr>\n",
       "      <th>1</th>\n",
       "      <td>rejects</td>\n",
       "      <td>VBZ</td>\n",
       "      <td>O</td>\n",
       "    </tr>\n",
       "    <tr>\n",
       "      <th>2</th>\n",
       "      <td>German</td>\n",
       "      <td>JJ</td>\n",
       "      <td>O</td>\n",
       "    </tr>\n",
       "    <tr>\n",
       "      <th>3</th>\n",
       "      <td>call</td>\n",
       "      <td>NN</td>\n",
       "      <td>O</td>\n",
       "    </tr>\n",
       "    <tr>\n",
       "      <th>4</th>\n",
       "      <td>to</td>\n",
       "      <td>TO</td>\n",
       "      <td>O</td>\n",
       "    </tr>\n",
       "  </tbody>\n",
       "</table>\n",
       "</div>"
      ],
      "text/plain": [
       "     index -DOCSTART- Label\n",
       "0       EU        NNP     O\n",
       "1  rejects        VBZ     O\n",
       "2   German         JJ     O\n",
       "3     call         NN     O\n",
       "4       to         TO     O"
      ]
     },
     "execution_count": 16,
     "metadata": {},
     "output_type": "execute_result"
    }
   ],
   "source": [
    "data.head()"
   ]
  },
  {
   "cell_type": "code",
   "execution_count": 17,
   "metadata": {},
   "outputs": [
    {
     "data": {
      "text/html": [
       "<div>\n",
       "<style scoped>\n",
       "    .dataframe tbody tr th:only-of-type {\n",
       "        vertical-align: middle;\n",
       "    }\n",
       "\n",
       "    .dataframe tbody tr th {\n",
       "        vertical-align: top;\n",
       "    }\n",
       "\n",
       "    .dataframe thead th {\n",
       "        text-align: right;\n",
       "    }\n",
       "</style>\n",
       "<table border=\"1\" class=\"dataframe\">\n",
       "  <thead>\n",
       "    <tr style=\"text-align: right;\">\n",
       "      <th></th>\n",
       "      <th>index</th>\n",
       "      <th>-DOCSTART-</th>\n",
       "      <th>label</th>\n",
       "    </tr>\n",
       "  </thead>\n",
       "  <tbody>\n",
       "    <tr>\n",
       "      <th>0</th>\n",
       "      <td>CRICKET</td>\n",
       "      <td>NNP</td>\n",
       "      <td>O</td>\n",
       "    </tr>\n",
       "    <tr>\n",
       "      <th>1</th>\n",
       "      <td>-</td>\n",
       "      <td>:</td>\n",
       "      <td>O</td>\n",
       "    </tr>\n",
       "    <tr>\n",
       "      <th>2</th>\n",
       "      <td>LEICESTERSHIRE</td>\n",
       "      <td>NNP</td>\n",
       "      <td>O</td>\n",
       "    </tr>\n",
       "    <tr>\n",
       "      <th>3</th>\n",
       "      <td>TAKE</td>\n",
       "      <td>NNP</td>\n",
       "      <td>O</td>\n",
       "    </tr>\n",
       "    <tr>\n",
       "      <th>4</th>\n",
       "      <td>OVER</td>\n",
       "      <td>IN</td>\n",
       "      <td>O</td>\n",
       "    </tr>\n",
       "  </tbody>\n",
       "</table>\n",
       "</div>"
      ],
      "text/plain": [
       "            index -DOCSTART- label\n",
       "0         CRICKET        NNP     O\n",
       "1               -          :     O\n",
       "2  LEICESTERSHIRE        NNP     O\n",
       "3            TAKE        NNP     O\n",
       "4            OVER         IN     O"
      ]
     },
     "execution_count": 17,
     "metadata": {},
     "output_type": "execute_result"
    }
   ],
   "source": [
    "test.head()"
   ]
  },
  {
   "cell_type": "code",
   "execution_count": 18,
   "metadata": {},
   "outputs": [],
   "source": [
    "data.columns = ['Word','POS','Label']\n",
    "test.columns = ['Word','POS','Label']"
   ]
  },
  {
   "cell_type": "code",
   "execution_count": 19,
   "metadata": {},
   "outputs": [],
   "source": [
    "data=data[data['Word']!='.']\n",
    "test=test[test['Word']!='.']"
   ]
  },
  {
   "cell_type": "code",
   "execution_count": 20,
   "metadata": {},
   "outputs": [],
   "source": [
    "data['Word']=data['Word'].str.lower()\n",
    "test['Word']=test['Word'].str.lower()"
   ]
  },
  {
   "cell_type": "code",
   "execution_count": 21,
   "metadata": {},
   "outputs": [
    {
     "name": "stdout",
     "output_type": "stream",
     "text": [
      "(196247, 3)\n",
      "(48420, 3)\n"
     ]
    }
   ],
   "source": [
    "print(data.shape)\n",
    "print(test.shape)"
   ]
  },
  {
   "cell_type": "code",
   "execution_count": 22,
   "metadata": {},
   "outputs": [],
   "source": [
    "Alldataset = pd.concat([data,test],sort = False)"
   ]
  },
  {
   "cell_type": "code",
   "execution_count": 23,
   "metadata": {},
   "outputs": [
    {
     "data": {
      "text/html": [
       "<div>\n",
       "<style scoped>\n",
       "    .dataframe tbody tr th:only-of-type {\n",
       "        vertical-align: middle;\n",
       "    }\n",
       "\n",
       "    .dataframe tbody tr th {\n",
       "        vertical-align: top;\n",
       "    }\n",
       "\n",
       "    .dataframe thead th {\n",
       "        text-align: right;\n",
       "    }\n",
       "</style>\n",
       "<table border=\"1\" class=\"dataframe\">\n",
       "  <thead>\n",
       "    <tr style=\"text-align: right;\">\n",
       "      <th></th>\n",
       "      <th>Word</th>\n",
       "      <th>POS</th>\n",
       "      <th>Label</th>\n",
       "    </tr>\n",
       "  </thead>\n",
       "  <tbody>\n",
       "    <tr>\n",
       "      <th>50503</th>\n",
       "      <td>thursday</td>\n",
       "      <td>NNP</td>\n",
       "      <td>O</td>\n",
       "    </tr>\n",
       "    <tr>\n",
       "      <th>50505</th>\n",
       "      <td>--</td>\n",
       "      <td>:</td>\n",
       "      <td>O</td>\n",
       "    </tr>\n",
       "    <tr>\n",
       "      <th>50506</th>\n",
       "      <td>dhaka</td>\n",
       "      <td>NNP</td>\n",
       "      <td>O</td>\n",
       "    </tr>\n",
       "    <tr>\n",
       "      <th>50507</th>\n",
       "      <td>newsroom</td>\n",
       "      <td>NNP</td>\n",
       "      <td>O</td>\n",
       "    </tr>\n",
       "    <tr>\n",
       "      <th>50508</th>\n",
       "      <td>880-2-506363</td>\n",
       "      <td>CD</td>\n",
       "      <td>O</td>\n",
       "    </tr>\n",
       "  </tbody>\n",
       "</table>\n",
       "</div>"
      ],
      "text/plain": [
       "               Word  POS Label\n",
       "50503      thursday  NNP     O\n",
       "50505            --    :     O\n",
       "50506         dhaka  NNP     O\n",
       "50507      newsroom  NNP     O\n",
       "50508  880-2-506363   CD     O"
      ]
     },
     "execution_count": 23,
     "metadata": {},
     "output_type": "execute_result"
    }
   ],
   "source": [
    "Alldataset.tail()"
   ]
  },
  {
   "cell_type": "code",
   "execution_count": 24,
   "metadata": {},
   "outputs": [
    {
     "data": {
      "text/html": [
       "<div>\n",
       "<style scoped>\n",
       "    .dataframe tbody tr th:only-of-type {\n",
       "        vertical-align: middle;\n",
       "    }\n",
       "\n",
       "    .dataframe tbody tr th {\n",
       "        vertical-align: top;\n",
       "    }\n",
       "\n",
       "    .dataframe thead th {\n",
       "        text-align: right;\n",
       "    }\n",
       "</style>\n",
       "<table border=\"1\" class=\"dataframe\">\n",
       "  <thead>\n",
       "    <tr style=\"text-align: right;\">\n",
       "      <th></th>\n",
       "      <th>Word</th>\n",
       "      <th>POS</th>\n",
       "      <th>Label</th>\n",
       "    </tr>\n",
       "  </thead>\n",
       "  <tbody>\n",
       "    <tr>\n",
       "      <th>0</th>\n",
       "      <td>cricket</td>\n",
       "      <td>NNP</td>\n",
       "      <td>O</td>\n",
       "    </tr>\n",
       "    <tr>\n",
       "      <th>1</th>\n",
       "      <td>-</td>\n",
       "      <td>:</td>\n",
       "      <td>O</td>\n",
       "    </tr>\n",
       "    <tr>\n",
       "      <th>2</th>\n",
       "      <td>leicestershire</td>\n",
       "      <td>NNP</td>\n",
       "      <td>O</td>\n",
       "    </tr>\n",
       "    <tr>\n",
       "      <th>3</th>\n",
       "      <td>take</td>\n",
       "      <td>NNP</td>\n",
       "      <td>O</td>\n",
       "    </tr>\n",
       "    <tr>\n",
       "      <th>4</th>\n",
       "      <td>over</td>\n",
       "      <td>IN</td>\n",
       "      <td>O</td>\n",
       "    </tr>\n",
       "  </tbody>\n",
       "</table>\n",
       "</div>"
      ],
      "text/plain": [
       "             Word  POS Label\n",
       "0         cricket  NNP     O\n",
       "1               -    :     O\n",
       "2  leicestershire  NNP     O\n",
       "3            take  NNP     O\n",
       "4            over   IN     O"
      ]
     },
     "execution_count": 24,
     "metadata": {},
     "output_type": "execute_result"
    }
   ],
   "source": [
    "Alldataset.iloc[196247:196252,:]"
   ]
  },
  {
   "cell_type": "code",
   "execution_count": 25,
   "metadata": {},
   "outputs": [
    {
     "data": {
      "text/html": [
       "<div>\n",
       "<style scoped>\n",
       "    .dataframe tbody tr th:only-of-type {\n",
       "        vertical-align: middle;\n",
       "    }\n",
       "\n",
       "    .dataframe tbody tr th {\n",
       "        vertical-align: top;\n",
       "    }\n",
       "\n",
       "    .dataframe thead th {\n",
       "        text-align: right;\n",
       "    }\n",
       "</style>\n",
       "<table border=\"1\" class=\"dataframe\">\n",
       "  <thead>\n",
       "    <tr style=\"text-align: right;\">\n",
       "      <th></th>\n",
       "      <th>Word</th>\n",
       "      <th>POS</th>\n",
       "      <th>Label</th>\n",
       "      <th>Encoded_Word</th>\n",
       "    </tr>\n",
       "  </thead>\n",
       "  <tbody>\n",
       "    <tr>\n",
       "      <th>0</th>\n",
       "      <td>eu</td>\n",
       "      <td>NNP</td>\n",
       "      <td>O</td>\n",
       "      <td>10072</td>\n",
       "    </tr>\n",
       "    <tr>\n",
       "      <th>1</th>\n",
       "      <td>rejects</td>\n",
       "      <td>VBZ</td>\n",
       "      <td>O</td>\n",
       "      <td>18658</td>\n",
       "    </tr>\n",
       "    <tr>\n",
       "      <th>2</th>\n",
       "      <td>german</td>\n",
       "      <td>JJ</td>\n",
       "      <td>O</td>\n",
       "      <td>11304</td>\n",
       "    </tr>\n",
       "    <tr>\n",
       "      <th>3</th>\n",
       "      <td>call</td>\n",
       "      <td>NN</td>\n",
       "      <td>O</td>\n",
       "      <td>6949</td>\n",
       "    </tr>\n",
       "    <tr>\n",
       "      <th>4</th>\n",
       "      <td>to</td>\n",
       "      <td>TO</td>\n",
       "      <td>O</td>\n",
       "      <td>21973</td>\n",
       "    </tr>\n",
       "  </tbody>\n",
       "</table>\n",
       "</div>"
      ],
      "text/plain": [
       "      Word  POS Label  Encoded_Word\n",
       "0       eu  NNP     O         10072\n",
       "1  rejects  VBZ     O         18658\n",
       "2   german   JJ     O         11304\n",
       "3     call   NN     O          6949\n",
       "4       to   TO     O         21973"
      ]
     },
     "execution_count": 25,
     "metadata": {},
     "output_type": "execute_result"
    }
   ],
   "source": [
    "from sklearn import preprocessing\n",
    "labelencoding = preprocessing.LabelEncoder()\n",
    "labelencoding.fit(Alldataset['Word'])\n",
    "Alldataset['Encoded_Word']=labelencoding.transform(Alldataset['Word'])\n",
    "Alldataset.head()"
   ]
  },
  {
   "cell_type": "code",
   "execution_count": 26,
   "metadata": {},
   "outputs": [],
   "source": [
    "lab = {'O':0,'I':1}"
   ]
  },
  {
   "cell_type": "code",
   "execution_count": 27,
   "metadata": {},
   "outputs": [],
   "source": [
    "Alldataset['Label'] = Alldataset['Label'].map(lab)"
   ]
  },
  {
   "cell_type": "code",
   "execution_count": 28,
   "metadata": {},
   "outputs": [
    {
     "data": {
      "text/plain": [
       "Word             object\n",
       "POS              object\n",
       "Label           float64\n",
       "Encoded_Word      int32\n",
       "dtype: object"
      ]
     },
     "execution_count": 28,
     "metadata": {},
     "output_type": "execute_result"
    }
   ],
   "source": [
    "Alldataset.dtypes"
   ]
  },
  {
   "cell_type": "code",
   "execution_count": 29,
   "metadata": {},
   "outputs": [
    {
     "data": {
      "text/html": [
       "<div>\n",
       "<style scoped>\n",
       "    .dataframe tbody tr th:only-of-type {\n",
       "        vertical-align: middle;\n",
       "    }\n",
       "\n",
       "    .dataframe tbody tr th {\n",
       "        vertical-align: top;\n",
       "    }\n",
       "\n",
       "    .dataframe thead th {\n",
       "        text-align: right;\n",
       "    }\n",
       "</style>\n",
       "<table border=\"1\" class=\"dataframe\">\n",
       "  <thead>\n",
       "    <tr style=\"text-align: right;\">\n",
       "      <th></th>\n",
       "      <th>Word</th>\n",
       "      <th>POS</th>\n",
       "      <th>Label</th>\n",
       "      <th>Encoded_Word</th>\n",
       "    </tr>\n",
       "  </thead>\n",
       "  <tbody>\n",
       "    <tr>\n",
       "      <th>0</th>\n",
       "      <td>eu</td>\n",
       "      <td>NNP</td>\n",
       "      <td>0.0</td>\n",
       "      <td>10072</td>\n",
       "    </tr>\n",
       "    <tr>\n",
       "      <th>1</th>\n",
       "      <td>rejects</td>\n",
       "      <td>VBZ</td>\n",
       "      <td>0.0</td>\n",
       "      <td>18658</td>\n",
       "    </tr>\n",
       "    <tr>\n",
       "      <th>2</th>\n",
       "      <td>german</td>\n",
       "      <td>JJ</td>\n",
       "      <td>0.0</td>\n",
       "      <td>11304</td>\n",
       "    </tr>\n",
       "    <tr>\n",
       "      <th>3</th>\n",
       "      <td>call</td>\n",
       "      <td>NN</td>\n",
       "      <td>0.0</td>\n",
       "      <td>6949</td>\n",
       "    </tr>\n",
       "    <tr>\n",
       "      <th>4</th>\n",
       "      <td>to</td>\n",
       "      <td>TO</td>\n",
       "      <td>0.0</td>\n",
       "      <td>21973</td>\n",
       "    </tr>\n",
       "  </tbody>\n",
       "</table>\n",
       "</div>"
      ],
      "text/plain": [
       "      Word  POS  Label  Encoded_Word\n",
       "0       eu  NNP    0.0         10072\n",
       "1  rejects  VBZ    0.0         18658\n",
       "2   german   JJ    0.0         11304\n",
       "3     call   NN    0.0          6949\n",
       "4       to   TO    0.0         21973"
      ]
     },
     "execution_count": 29,
     "metadata": {},
     "output_type": "execute_result"
    }
   ],
   "source": [
    "Alldataset.head()"
   ]
  },
  {
   "cell_type": "code",
   "execution_count": 30,
   "metadata": {},
   "outputs": [],
   "source": [
    "Alldataset.set_index('Word',inplace=True)"
   ]
  },
  {
   "cell_type": "code",
   "execution_count": 31,
   "metadata": {},
   "outputs": [],
   "source": [
    "result = pd.concat([Alldataset, pd.get_dummies(Alldataset['POS'])], axis=1, sort=False)"
   ]
  },
  {
   "cell_type": "code",
   "execution_count": 32,
   "metadata": {},
   "outputs": [
    {
     "data": {
      "text/html": [
       "<div>\n",
       "<style scoped>\n",
       "    .dataframe tbody tr th:only-of-type {\n",
       "        vertical-align: middle;\n",
       "    }\n",
       "\n",
       "    .dataframe tbody tr th {\n",
       "        vertical-align: top;\n",
       "    }\n",
       "\n",
       "    .dataframe thead th {\n",
       "        text-align: right;\n",
       "    }\n",
       "</style>\n",
       "<table border=\"1\" class=\"dataframe\">\n",
       "  <thead>\n",
       "    <tr style=\"text-align: right;\">\n",
       "      <th></th>\n",
       "      <th>POS</th>\n",
       "      <th>Label</th>\n",
       "      <th>Encoded_Word</th>\n",
       "      <th>$</th>\n",
       "      <th>''</th>\n",
       "      <th>(</th>\n",
       "      <th>)</th>\n",
       "      <th>,</th>\n",
       "      <th>.</th>\n",
       "      <th>:</th>\n",
       "      <th>...</th>\n",
       "      <th>VB</th>\n",
       "      <th>VBD</th>\n",
       "      <th>VBG</th>\n",
       "      <th>VBN</th>\n",
       "      <th>VBP</th>\n",
       "      <th>VBZ</th>\n",
       "      <th>WDT</th>\n",
       "      <th>WP</th>\n",
       "      <th>WP$</th>\n",
       "      <th>WRB</th>\n",
       "    </tr>\n",
       "    <tr>\n",
       "      <th>Word</th>\n",
       "      <th></th>\n",
       "      <th></th>\n",
       "      <th></th>\n",
       "      <th></th>\n",
       "      <th></th>\n",
       "      <th></th>\n",
       "      <th></th>\n",
       "      <th></th>\n",
       "      <th></th>\n",
       "      <th></th>\n",
       "      <th></th>\n",
       "      <th></th>\n",
       "      <th></th>\n",
       "      <th></th>\n",
       "      <th></th>\n",
       "      <th></th>\n",
       "      <th></th>\n",
       "      <th></th>\n",
       "      <th></th>\n",
       "      <th></th>\n",
       "      <th></th>\n",
       "    </tr>\n",
       "  </thead>\n",
       "  <tbody>\n",
       "    <tr>\n",
       "      <th>eu</th>\n",
       "      <td>NNP</td>\n",
       "      <td>0.0</td>\n",
       "      <td>10072</td>\n",
       "      <td>0</td>\n",
       "      <td>0</td>\n",
       "      <td>0</td>\n",
       "      <td>0</td>\n",
       "      <td>0</td>\n",
       "      <td>0</td>\n",
       "      <td>0</td>\n",
       "      <td>...</td>\n",
       "      <td>0</td>\n",
       "      <td>0</td>\n",
       "      <td>0</td>\n",
       "      <td>0</td>\n",
       "      <td>0</td>\n",
       "      <td>0</td>\n",
       "      <td>0</td>\n",
       "      <td>0</td>\n",
       "      <td>0</td>\n",
       "      <td>0</td>\n",
       "    </tr>\n",
       "    <tr>\n",
       "      <th>rejects</th>\n",
       "      <td>VBZ</td>\n",
       "      <td>0.0</td>\n",
       "      <td>18658</td>\n",
       "      <td>0</td>\n",
       "      <td>0</td>\n",
       "      <td>0</td>\n",
       "      <td>0</td>\n",
       "      <td>0</td>\n",
       "      <td>0</td>\n",
       "      <td>0</td>\n",
       "      <td>...</td>\n",
       "      <td>0</td>\n",
       "      <td>0</td>\n",
       "      <td>0</td>\n",
       "      <td>0</td>\n",
       "      <td>0</td>\n",
       "      <td>1</td>\n",
       "      <td>0</td>\n",
       "      <td>0</td>\n",
       "      <td>0</td>\n",
       "      <td>0</td>\n",
       "    </tr>\n",
       "    <tr>\n",
       "      <th>german</th>\n",
       "      <td>JJ</td>\n",
       "      <td>0.0</td>\n",
       "      <td>11304</td>\n",
       "      <td>0</td>\n",
       "      <td>0</td>\n",
       "      <td>0</td>\n",
       "      <td>0</td>\n",
       "      <td>0</td>\n",
       "      <td>0</td>\n",
       "      <td>0</td>\n",
       "      <td>...</td>\n",
       "      <td>0</td>\n",
       "      <td>0</td>\n",
       "      <td>0</td>\n",
       "      <td>0</td>\n",
       "      <td>0</td>\n",
       "      <td>0</td>\n",
       "      <td>0</td>\n",
       "      <td>0</td>\n",
       "      <td>0</td>\n",
       "      <td>0</td>\n",
       "    </tr>\n",
       "    <tr>\n",
       "      <th>call</th>\n",
       "      <td>NN</td>\n",
       "      <td>0.0</td>\n",
       "      <td>6949</td>\n",
       "      <td>0</td>\n",
       "      <td>0</td>\n",
       "      <td>0</td>\n",
       "      <td>0</td>\n",
       "      <td>0</td>\n",
       "      <td>0</td>\n",
       "      <td>0</td>\n",
       "      <td>...</td>\n",
       "      <td>0</td>\n",
       "      <td>0</td>\n",
       "      <td>0</td>\n",
       "      <td>0</td>\n",
       "      <td>0</td>\n",
       "      <td>0</td>\n",
       "      <td>0</td>\n",
       "      <td>0</td>\n",
       "      <td>0</td>\n",
       "      <td>0</td>\n",
       "    </tr>\n",
       "    <tr>\n",
       "      <th>to</th>\n",
       "      <td>TO</td>\n",
       "      <td>0.0</td>\n",
       "      <td>21973</td>\n",
       "      <td>0</td>\n",
       "      <td>0</td>\n",
       "      <td>0</td>\n",
       "      <td>0</td>\n",
       "      <td>0</td>\n",
       "      <td>0</td>\n",
       "      <td>0</td>\n",
       "      <td>...</td>\n",
       "      <td>0</td>\n",
       "      <td>0</td>\n",
       "      <td>0</td>\n",
       "      <td>0</td>\n",
       "      <td>0</td>\n",
       "      <td>0</td>\n",
       "      <td>0</td>\n",
       "      <td>0</td>\n",
       "      <td>0</td>\n",
       "      <td>0</td>\n",
       "    </tr>\n",
       "  </tbody>\n",
       "</table>\n",
       "<p>5 rows × 48 columns</p>\n",
       "</div>"
      ],
      "text/plain": [
       "         POS  Label  Encoded_Word  $  ''  (  )  ,  .  : ...   VB  VBD  VBG  \\\n",
       "Word                                                    ...                  \n",
       "eu       NNP    0.0         10072  0   0  0  0  0  0  0 ...    0    0    0   \n",
       "rejects  VBZ    0.0         18658  0   0  0  0  0  0  0 ...    0    0    0   \n",
       "german    JJ    0.0         11304  0   0  0  0  0  0  0 ...    0    0    0   \n",
       "call      NN    0.0          6949  0   0  0  0  0  0  0 ...    0    0    0   \n",
       "to        TO    0.0         21973  0   0  0  0  0  0  0 ...    0    0    0   \n",
       "\n",
       "         VBN  VBP  VBZ  WDT  WP  WP$  WRB  \n",
       "Word                                       \n",
       "eu         0    0    0    0   0    0    0  \n",
       "rejects    0    0    1    0   0    0    0  \n",
       "german     0    0    0    0   0    0    0  \n",
       "call       0    0    0    0   0    0    0  \n",
       "to         0    0    0    0   0    0    0  \n",
       "\n",
       "[5 rows x 48 columns]"
      ]
     },
     "execution_count": 32,
     "metadata": {},
     "output_type": "execute_result"
    }
   ],
   "source": [
    "result.head()"
   ]
  },
  {
   "cell_type": "code",
   "execution_count": 33,
   "metadata": {},
   "outputs": [],
   "source": [
    "finalAds = result.drop(['POS'],axis = 1)"
   ]
  },
  {
   "cell_type": "code",
   "execution_count": 34,
   "metadata": {},
   "outputs": [
    {
     "data": {
      "text/html": [
       "<div>\n",
       "<style scoped>\n",
       "    .dataframe tbody tr th:only-of-type {\n",
       "        vertical-align: middle;\n",
       "    }\n",
       "\n",
       "    .dataframe tbody tr th {\n",
       "        vertical-align: top;\n",
       "    }\n",
       "\n",
       "    .dataframe thead th {\n",
       "        text-align: right;\n",
       "    }\n",
       "</style>\n",
       "<table border=\"1\" class=\"dataframe\">\n",
       "  <thead>\n",
       "    <tr style=\"text-align: right;\">\n",
       "      <th></th>\n",
       "      <th>Label</th>\n",
       "      <th>Encoded_Word</th>\n",
       "      <th>$</th>\n",
       "      <th>''</th>\n",
       "      <th>(</th>\n",
       "      <th>)</th>\n",
       "      <th>,</th>\n",
       "      <th>.</th>\n",
       "      <th>:</th>\n",
       "      <th>CC</th>\n",
       "      <th>...</th>\n",
       "      <th>VB</th>\n",
       "      <th>VBD</th>\n",
       "      <th>VBG</th>\n",
       "      <th>VBN</th>\n",
       "      <th>VBP</th>\n",
       "      <th>VBZ</th>\n",
       "      <th>WDT</th>\n",
       "      <th>WP</th>\n",
       "      <th>WP$</th>\n",
       "      <th>WRB</th>\n",
       "    </tr>\n",
       "    <tr>\n",
       "      <th>Word</th>\n",
       "      <th></th>\n",
       "      <th></th>\n",
       "      <th></th>\n",
       "      <th></th>\n",
       "      <th></th>\n",
       "      <th></th>\n",
       "      <th></th>\n",
       "      <th></th>\n",
       "      <th></th>\n",
       "      <th></th>\n",
       "      <th></th>\n",
       "      <th></th>\n",
       "      <th></th>\n",
       "      <th></th>\n",
       "      <th></th>\n",
       "      <th></th>\n",
       "      <th></th>\n",
       "      <th></th>\n",
       "      <th></th>\n",
       "      <th></th>\n",
       "      <th></th>\n",
       "    </tr>\n",
       "  </thead>\n",
       "  <tbody>\n",
       "    <tr>\n",
       "      <th>eu</th>\n",
       "      <td>0.0</td>\n",
       "      <td>10072</td>\n",
       "      <td>0</td>\n",
       "      <td>0</td>\n",
       "      <td>0</td>\n",
       "      <td>0</td>\n",
       "      <td>0</td>\n",
       "      <td>0</td>\n",
       "      <td>0</td>\n",
       "      <td>0</td>\n",
       "      <td>...</td>\n",
       "      <td>0</td>\n",
       "      <td>0</td>\n",
       "      <td>0</td>\n",
       "      <td>0</td>\n",
       "      <td>0</td>\n",
       "      <td>0</td>\n",
       "      <td>0</td>\n",
       "      <td>0</td>\n",
       "      <td>0</td>\n",
       "      <td>0</td>\n",
       "    </tr>\n",
       "    <tr>\n",
       "      <th>rejects</th>\n",
       "      <td>0.0</td>\n",
       "      <td>18658</td>\n",
       "      <td>0</td>\n",
       "      <td>0</td>\n",
       "      <td>0</td>\n",
       "      <td>0</td>\n",
       "      <td>0</td>\n",
       "      <td>0</td>\n",
       "      <td>0</td>\n",
       "      <td>0</td>\n",
       "      <td>...</td>\n",
       "      <td>0</td>\n",
       "      <td>0</td>\n",
       "      <td>0</td>\n",
       "      <td>0</td>\n",
       "      <td>0</td>\n",
       "      <td>1</td>\n",
       "      <td>0</td>\n",
       "      <td>0</td>\n",
       "      <td>0</td>\n",
       "      <td>0</td>\n",
       "    </tr>\n",
       "    <tr>\n",
       "      <th>german</th>\n",
       "      <td>0.0</td>\n",
       "      <td>11304</td>\n",
       "      <td>0</td>\n",
       "      <td>0</td>\n",
       "      <td>0</td>\n",
       "      <td>0</td>\n",
       "      <td>0</td>\n",
       "      <td>0</td>\n",
       "      <td>0</td>\n",
       "      <td>0</td>\n",
       "      <td>...</td>\n",
       "      <td>0</td>\n",
       "      <td>0</td>\n",
       "      <td>0</td>\n",
       "      <td>0</td>\n",
       "      <td>0</td>\n",
       "      <td>0</td>\n",
       "      <td>0</td>\n",
       "      <td>0</td>\n",
       "      <td>0</td>\n",
       "      <td>0</td>\n",
       "    </tr>\n",
       "    <tr>\n",
       "      <th>call</th>\n",
       "      <td>0.0</td>\n",
       "      <td>6949</td>\n",
       "      <td>0</td>\n",
       "      <td>0</td>\n",
       "      <td>0</td>\n",
       "      <td>0</td>\n",
       "      <td>0</td>\n",
       "      <td>0</td>\n",
       "      <td>0</td>\n",
       "      <td>0</td>\n",
       "      <td>...</td>\n",
       "      <td>0</td>\n",
       "      <td>0</td>\n",
       "      <td>0</td>\n",
       "      <td>0</td>\n",
       "      <td>0</td>\n",
       "      <td>0</td>\n",
       "      <td>0</td>\n",
       "      <td>0</td>\n",
       "      <td>0</td>\n",
       "      <td>0</td>\n",
       "    </tr>\n",
       "    <tr>\n",
       "      <th>to</th>\n",
       "      <td>0.0</td>\n",
       "      <td>21973</td>\n",
       "      <td>0</td>\n",
       "      <td>0</td>\n",
       "      <td>0</td>\n",
       "      <td>0</td>\n",
       "      <td>0</td>\n",
       "      <td>0</td>\n",
       "      <td>0</td>\n",
       "      <td>0</td>\n",
       "      <td>...</td>\n",
       "      <td>0</td>\n",
       "      <td>0</td>\n",
       "      <td>0</td>\n",
       "      <td>0</td>\n",
       "      <td>0</td>\n",
       "      <td>0</td>\n",
       "      <td>0</td>\n",
       "      <td>0</td>\n",
       "      <td>0</td>\n",
       "      <td>0</td>\n",
       "    </tr>\n",
       "  </tbody>\n",
       "</table>\n",
       "<p>5 rows × 46 columns</p>\n",
       "</div>"
      ],
      "text/plain": [
       "         Label  Encoded_Word  $  ''  (  )  ,  .  :  CC ...   VB  VBD  VBG  \\\n",
       "Word                                                   ...                  \n",
       "eu         0.0         10072  0   0  0  0  0  0  0   0 ...    0    0    0   \n",
       "rejects    0.0         18658  0   0  0  0  0  0  0   0 ...    0    0    0   \n",
       "german     0.0         11304  0   0  0  0  0  0  0   0 ...    0    0    0   \n",
       "call       0.0          6949  0   0  0  0  0  0  0   0 ...    0    0    0   \n",
       "to         0.0         21973  0   0  0  0  0  0  0   0 ...    0    0    0   \n",
       "\n",
       "         VBN  VBP  VBZ  WDT  WP  WP$  WRB  \n",
       "Word                                       \n",
       "eu         0    0    0    0   0    0    0  \n",
       "rejects    0    0    1    0   0    0    0  \n",
       "german     0    0    0    0   0    0    0  \n",
       "call       0    0    0    0   0    0    0  \n",
       "to         0    0    0    0   0    0    0  \n",
       "\n",
       "[5 rows x 46 columns]"
      ]
     },
     "execution_count": 34,
     "metadata": {},
     "output_type": "execute_result"
    }
   ],
   "source": [
    "finalAds.head()"
   ]
  },
  {
   "cell_type": "code",
   "execution_count": 35,
   "metadata": {},
   "outputs": [
    {
     "data": {
      "text/html": [
       "<div>\n",
       "<style scoped>\n",
       "    .dataframe tbody tr th:only-of-type {\n",
       "        vertical-align: middle;\n",
       "    }\n",
       "\n",
       "    .dataframe tbody tr th {\n",
       "        vertical-align: top;\n",
       "    }\n",
       "\n",
       "    .dataframe thead th {\n",
       "        text-align: right;\n",
       "    }\n",
       "</style>\n",
       "<table border=\"1\" class=\"dataframe\">\n",
       "  <thead>\n",
       "    <tr style=\"text-align: right;\">\n",
       "      <th></th>\n",
       "      <th>Label</th>\n",
       "      <th>Encoded_Word</th>\n",
       "      <th>$</th>\n",
       "      <th>''</th>\n",
       "      <th>(</th>\n",
       "      <th>)</th>\n",
       "      <th>,</th>\n",
       "      <th>.</th>\n",
       "      <th>:</th>\n",
       "      <th>CC</th>\n",
       "      <th>...</th>\n",
       "      <th>VB</th>\n",
       "      <th>VBD</th>\n",
       "      <th>VBG</th>\n",
       "      <th>VBN</th>\n",
       "      <th>VBP</th>\n",
       "      <th>VBZ</th>\n",
       "      <th>WDT</th>\n",
       "      <th>WP</th>\n",
       "      <th>WP$</th>\n",
       "      <th>WRB</th>\n",
       "    </tr>\n",
       "    <tr>\n",
       "      <th>Word</th>\n",
       "      <th></th>\n",
       "      <th></th>\n",
       "      <th></th>\n",
       "      <th></th>\n",
       "      <th></th>\n",
       "      <th></th>\n",
       "      <th></th>\n",
       "      <th></th>\n",
       "      <th></th>\n",
       "      <th></th>\n",
       "      <th></th>\n",
       "      <th></th>\n",
       "      <th></th>\n",
       "      <th></th>\n",
       "      <th></th>\n",
       "      <th></th>\n",
       "      <th></th>\n",
       "      <th></th>\n",
       "      <th></th>\n",
       "      <th></th>\n",
       "      <th></th>\n",
       "    </tr>\n",
       "  </thead>\n",
       "  <tbody>\n",
       "    <tr>\n",
       "      <th>cricket</th>\n",
       "      <td>0.0</td>\n",
       "      <td>8360</td>\n",
       "      <td>0</td>\n",
       "      <td>0</td>\n",
       "      <td>0</td>\n",
       "      <td>0</td>\n",
       "      <td>0</td>\n",
       "      <td>0</td>\n",
       "      <td>0</td>\n",
       "      <td>0</td>\n",
       "      <td>...</td>\n",
       "      <td>0</td>\n",
       "      <td>0</td>\n",
       "      <td>0</td>\n",
       "      <td>0</td>\n",
       "      <td>0</td>\n",
       "      <td>0</td>\n",
       "      <td>0</td>\n",
       "      <td>0</td>\n",
       "      <td>0</td>\n",
       "      <td>0</td>\n",
       "    </tr>\n",
       "    <tr>\n",
       "      <th>-</th>\n",
       "      <td>0.0</td>\n",
       "      <td>119</td>\n",
       "      <td>0</td>\n",
       "      <td>0</td>\n",
       "      <td>0</td>\n",
       "      <td>0</td>\n",
       "      <td>0</td>\n",
       "      <td>0</td>\n",
       "      <td>1</td>\n",
       "      <td>0</td>\n",
       "      <td>...</td>\n",
       "      <td>0</td>\n",
       "      <td>0</td>\n",
       "      <td>0</td>\n",
       "      <td>0</td>\n",
       "      <td>0</td>\n",
       "      <td>0</td>\n",
       "      <td>0</td>\n",
       "      <td>0</td>\n",
       "      <td>0</td>\n",
       "      <td>0</td>\n",
       "    </tr>\n",
       "    <tr>\n",
       "      <th>leicestershire</th>\n",
       "      <td>0.0</td>\n",
       "      <td>14178</td>\n",
       "      <td>0</td>\n",
       "      <td>0</td>\n",
       "      <td>0</td>\n",
       "      <td>0</td>\n",
       "      <td>0</td>\n",
       "      <td>0</td>\n",
       "      <td>0</td>\n",
       "      <td>0</td>\n",
       "      <td>...</td>\n",
       "      <td>0</td>\n",
       "      <td>0</td>\n",
       "      <td>0</td>\n",
       "      <td>0</td>\n",
       "      <td>0</td>\n",
       "      <td>0</td>\n",
       "      <td>0</td>\n",
       "      <td>0</td>\n",
       "      <td>0</td>\n",
       "      <td>0</td>\n",
       "    </tr>\n",
       "    <tr>\n",
       "      <th>take</th>\n",
       "      <td>0.0</td>\n",
       "      <td>21473</td>\n",
       "      <td>0</td>\n",
       "      <td>0</td>\n",
       "      <td>0</td>\n",
       "      <td>0</td>\n",
       "      <td>0</td>\n",
       "      <td>0</td>\n",
       "      <td>0</td>\n",
       "      <td>0</td>\n",
       "      <td>...</td>\n",
       "      <td>0</td>\n",
       "      <td>0</td>\n",
       "      <td>0</td>\n",
       "      <td>0</td>\n",
       "      <td>0</td>\n",
       "      <td>0</td>\n",
       "      <td>0</td>\n",
       "      <td>0</td>\n",
       "      <td>0</td>\n",
       "      <td>0</td>\n",
       "    </tr>\n",
       "    <tr>\n",
       "      <th>over</th>\n",
       "      <td>0.0</td>\n",
       "      <td>16728</td>\n",
       "      <td>0</td>\n",
       "      <td>0</td>\n",
       "      <td>0</td>\n",
       "      <td>0</td>\n",
       "      <td>0</td>\n",
       "      <td>0</td>\n",
       "      <td>0</td>\n",
       "      <td>0</td>\n",
       "      <td>...</td>\n",
       "      <td>0</td>\n",
       "      <td>0</td>\n",
       "      <td>0</td>\n",
       "      <td>0</td>\n",
       "      <td>0</td>\n",
       "      <td>0</td>\n",
       "      <td>0</td>\n",
       "      <td>0</td>\n",
       "      <td>0</td>\n",
       "      <td>0</td>\n",
       "    </tr>\n",
       "  </tbody>\n",
       "</table>\n",
       "<p>5 rows × 46 columns</p>\n",
       "</div>"
      ],
      "text/plain": [
       "                Label  Encoded_Word  $  ''  (  )  ,  .  :  CC ...   VB  VBD  \\\n",
       "Word                                                          ...             \n",
       "cricket           0.0          8360  0   0  0  0  0  0  0   0 ...    0    0   \n",
       "-                 0.0           119  0   0  0  0  0  0  1   0 ...    0    0   \n",
       "leicestershire    0.0         14178  0   0  0  0  0  0  0   0 ...    0    0   \n",
       "take              0.0         21473  0   0  0  0  0  0  0   0 ...    0    0   \n",
       "over              0.0         16728  0   0  0  0  0  0  0   0 ...    0    0   \n",
       "\n",
       "                VBG  VBN  VBP  VBZ  WDT  WP  WP$  WRB  \n",
       "Word                                                   \n",
       "cricket           0    0    0    0    0   0    0    0  \n",
       "-                 0    0    0    0    0   0    0    0  \n",
       "leicestershire    0    0    0    0    0   0    0    0  \n",
       "take              0    0    0    0    0   0    0    0  \n",
       "over              0    0    0    0    0   0    0    0  \n",
       "\n",
       "[5 rows x 46 columns]"
      ]
     },
     "execution_count": 35,
     "metadata": {},
     "output_type": "execute_result"
    }
   ],
   "source": [
    "train = finalAds.iloc[:196247,:]\n",
    "test = finalAds.iloc[196247:,:]\n",
    "test.head()"
   ]
  },
  {
   "cell_type": "code",
   "execution_count": 36,
   "metadata": {},
   "outputs": [],
   "source": [
    "from sklearn.linear_model import LogisticRegression\n",
    "from sklearn.ensemble import RandomForestClassifier\n",
    "from sklearn.metrics import accuracy_score\n",
    "from sklearn.metrics import f1_score\n"
   ]
  },
  {
   "cell_type": "code",
   "execution_count": 37,
   "metadata": {},
   "outputs": [],
   "source": [
    "test = test.dropna(axis=0, subset=['Label'])\n",
    "train = train.dropna(axis=0, subset=['Label'])"
   ]
  },
  {
   "cell_type": "code",
   "execution_count": 38,
   "metadata": {},
   "outputs": [],
   "source": [
    "xtrain = train.drop('Label',axis = 1)\n",
    "ytrain = train['Label']\n",
    "ytrain=ytrain.astype('int')"
   ]
  },
  {
   "cell_type": "code",
   "execution_count": 39,
   "metadata": {},
   "outputs": [
    {
     "data": {
      "text/plain": [
       "0"
      ]
     },
     "execution_count": 39,
     "metadata": {},
     "output_type": "execute_result"
    }
   ],
   "source": [
    "train.Label.isnull().sum()"
   ]
  },
  {
   "cell_type": "code",
   "execution_count": 40,
   "metadata": {},
   "outputs": [],
   "source": [
    "xtest = test.drop('Label',axis = 1)\n",
    "ytest = test['Label']\n",
    "ytrain=ytrain.astype('int')"
   ]
  },
  {
   "cell_type": "code",
   "execution_count": 41,
   "metadata": {},
   "outputs": [
    {
     "data": {
      "text/plain": [
       "dtype('int32')"
      ]
     },
     "execution_count": 41,
     "metadata": {},
     "output_type": "execute_result"
    }
   ],
   "source": [
    "ytrain.dtypes"
   ]
  },
  {
   "cell_type": "code",
   "execution_count": 42,
   "metadata": {},
   "outputs": [
    {
     "data": {
      "text/plain": [
       "(194069,)"
      ]
     },
     "execution_count": 42,
     "metadata": {},
     "output_type": "execute_result"
    }
   ],
   "source": [
    "np.shape(ytrain)"
   ]
  },
  {
   "cell_type": "code",
   "execution_count": 43,
   "metadata": {},
   "outputs": [
    {
     "name": "stderr",
     "output_type": "stream",
     "text": [
      "C:\\ProgramData\\Anaconda3\\lib\\site-packages\\sklearn\\linear_model\\logistic.py:433: FutureWarning: Default solver will be changed to 'lbfgs' in 0.22. Specify a solver to silence this warning.\n",
      "  FutureWarning)\n"
     ]
    },
    {
     "data": {
      "text/plain": [
       "LogisticRegression(C=1.0, class_weight=None, dual=False, fit_intercept=True,\n",
       "          intercept_scaling=1, max_iter=100, multi_class='warn',\n",
       "          n_jobs=None, penalty='l2', random_state=None, solver='warn',\n",
       "          tol=0.0001, verbose=0, warm_start=False)"
      ]
     },
     "execution_count": 43,
     "metadata": {},
     "output_type": "execute_result"
    }
   ],
   "source": [
    "clf_lr = LogisticRegression()\n",
    "clf_lr.fit(xtrain, ytrain)"
   ]
  },
  {
   "cell_type": "code",
   "execution_count": 44,
   "metadata": {},
   "outputs": [
    {
     "data": {
      "text/plain": [
       "0    182941\n",
       "1     11128\n",
       "Name: Label, dtype: int64"
      ]
     },
     "execution_count": 44,
     "metadata": {},
     "output_type": "execute_result"
    }
   ],
   "source": [
    "ytrain.value_counts()"
   ]
  },
  {
   "cell_type": "code",
   "execution_count": 45,
   "metadata": {},
   "outputs": [],
   "source": [
    "lr_pred = clf_lr.predict(xtest)"
   ]
  },
  {
   "cell_type": "code",
   "execution_count": 46,
   "metadata": {},
   "outputs": [
    {
     "data": {
      "text/plain": [
       "array([0, 0, 0, ..., 0, 0, 0])"
      ]
     },
     "execution_count": 46,
     "metadata": {},
     "output_type": "execute_result"
    }
   ],
   "source": [
    "lr_pred"
   ]
  },
  {
   "cell_type": "code",
   "execution_count": 47,
   "metadata": {},
   "outputs": [
    {
     "data": {
      "text/plain": [
       "(47449,)"
      ]
     },
     "execution_count": 47,
     "metadata": {},
     "output_type": "execute_result"
    }
   ],
   "source": [
    "np.shape(lr_pred)"
   ]
  },
  {
   "cell_type": "code",
   "execution_count": 48,
   "metadata": {},
   "outputs": [
    {
     "data": {
      "text/plain": [
       "(47449,)"
      ]
     },
     "execution_count": 48,
     "metadata": {},
     "output_type": "execute_result"
    }
   ],
   "source": [
    "np.shape(ytest)"
   ]
  },
  {
   "cell_type": "code",
   "execution_count": 49,
   "metadata": {},
   "outputs": [
    {
     "data": {
      "text/plain": [
       "0.0    44355\n",
       "1.0     3094\n",
       "Name: Label, dtype: int64"
      ]
     },
     "execution_count": 49,
     "metadata": {},
     "output_type": "execute_result"
    }
   ],
   "source": [
    "ytest.value_counts()"
   ]
  },
  {
   "cell_type": "code",
   "execution_count": 50,
   "metadata": {},
   "outputs": [
    {
     "data": {
      "text/plain": [
       "array([0])"
      ]
     },
     "execution_count": 50,
     "metadata": {},
     "output_type": "execute_result"
    }
   ],
   "source": [
    "np.unique(lr_pred)"
   ]
  },
  {
   "cell_type": "code",
   "execution_count": 51,
   "metadata": {},
   "outputs": [
    {
     "name": "stdout",
     "output_type": "stream",
     "text": [
      "Accuracy: 0.9347931463255285\n"
     ]
    }
   ],
   "source": [
    "accuracy_rf = accuracy_score(ytest,lr_pred)\n",
    "print(\"Accuracy: {}\".format(accuracy_rf))"
   ]
  },
  {
   "cell_type": "code",
   "execution_count": 52,
   "metadata": {},
   "outputs": [
    {
     "name": "stderr",
     "output_type": "stream",
     "text": [
      "C:\\ProgramData\\Anaconda3\\lib\\site-packages\\sklearn\\metrics\\classification.py:1143: UndefinedMetricWarning: F-score is ill-defined and being set to 0.0 in labels with no predicted samples.\n",
      "  'precision', 'predicted', average, warn_for)\n"
     ]
    },
    {
     "data": {
      "text/plain": [
       "0.9032885278477804"
      ]
     },
     "execution_count": 52,
     "metadata": {},
     "output_type": "execute_result"
    }
   ],
   "source": [
    "f1_score(ytest, lr_pred, average='weighted')"
   ]
  },
  {
   "cell_type": "code",
   "execution_count": 53,
   "metadata": {},
   "outputs": [],
   "source": [
    "clf_rf = RandomForestClassifier(max_depth=30)"
   ]
  },
  {
   "cell_type": "code",
   "execution_count": 54,
   "metadata": {},
   "outputs": [
    {
     "name": "stderr",
     "output_type": "stream",
     "text": [
      "C:\\ProgramData\\Anaconda3\\lib\\site-packages\\sklearn\\ensemble\\forest.py:246: FutureWarning: The default value of n_estimators will change from 10 in version 0.20 to 100 in 0.22.\n",
      "  \"10 in version 0.20 to 100 in 0.22.\", FutureWarning)\n"
     ]
    },
    {
     "data": {
      "text/plain": [
       "RandomForestClassifier(bootstrap=True, class_weight=None, criterion='gini',\n",
       "            max_depth=30, max_features='auto', max_leaf_nodes=None,\n",
       "            min_impurity_decrease=0.0, min_impurity_split=None,\n",
       "            min_samples_leaf=1, min_samples_split=2,\n",
       "            min_weight_fraction_leaf=0.0, n_estimators=10, n_jobs=None,\n",
       "            oob_score=False, random_state=None, verbose=0,\n",
       "            warm_start=False)"
      ]
     },
     "execution_count": 54,
     "metadata": {},
     "output_type": "execute_result"
    }
   ],
   "source": [
    "clf_rf.fit(xtrain, ytrain)"
   ]
  },
  {
   "cell_type": "code",
   "execution_count": 55,
   "metadata": {},
   "outputs": [],
   "source": [
    "rf_pred = clf_rf.predict(xtest)\n",
    "rf_pred_prb=clf_rf.predict_proba(xtest)[:,1]"
   ]
  },
  {
   "cell_type": "code",
   "execution_count": 57,
   "metadata": {},
   "outputs": [
    {
     "name": "stdout",
     "output_type": "stream",
     "text": [
      "Accuracy: 0.9773862462854854\n"
     ]
    }
   ],
   "source": [
    "accuracy_rf = accuracy_score(ytest,rf_pred)\n",
    "print(\"Accuracy: {}\".format(accuracy_rf))"
   ]
  },
  {
   "cell_type": "code",
   "execution_count": 56,
   "metadata": {},
   "outputs": [
    {
     "data": {
      "text/plain": [
       "0.9764086513312691"
      ]
     },
     "execution_count": 56,
     "metadata": {},
     "output_type": "execute_result"
    }
   ],
   "source": [
    "f1_score(ytest, rf_pred, average='weighted')"
   ]
  },
  {
   "cell_type": "code",
   "execution_count": null,
   "metadata": {},
   "outputs": [],
   "source": []
  }
 ],
 "metadata": {
  "kernelspec": {
   "display_name": "Python 3",
   "language": "python",
   "name": "python3"
  },
  "language_info": {
   "codemirror_mode": {
    "name": "ipython",
    "version": 3
   },
   "file_extension": ".py",
   "mimetype": "text/x-python",
   "name": "python",
   "nbconvert_exporter": "python",
   "pygments_lexer": "ipython3",
   "version": "3.7.4"
  }
 },
 "nbformat": 4,
 "nbformat_minor": 2
}
